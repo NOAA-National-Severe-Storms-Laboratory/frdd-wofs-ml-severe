{
 "cells": [
  {
   "cell_type": "code",
   "execution_count": null,
   "id": "6580e33d",
   "metadata": {},
   "outputs": [],
   "source": [
    "#from wofs_ml_severe.wofs_ml_severe import Classifier\n",
    "from master.ml_workflow.ml_workflow.calibrated_hyperopt_cv import CalibratedHyperOptCV\n",
    "\n",
    "\n",
    "\n",
    "# Import \n",
    "import numpy as np\n",
    "import pandas as pd\n",
    "from sklearn.linear_model import LogisticRegression\n",
    "from sklearn.datasets import make_classification\n",
    "from sklearn.ensemble import RandomForestClassifier\n",
    "from sklearn.model_selection import train_test_split\n",
    "\n",
    "import mlflow\n",
    "import mlflow.sklearn"
   ]
  },
  {
   "cell_type": "code",
   "execution_count": null,
   "id": "8033ae25",
   "metadata": {},
   "outputs": [],
   "source": [
    "X, y = make_classification(10000,\n",
    "    n_features=10, n_redundant=0, n_informative=2, random_state=1, n_clusters_per_class=1, class_sep=0.4\n",
    ")\n",
    "\n",
    "X_train, X_test, y_train, y_test = train_test_split(\n",
    "        X, y, test_size=0.4, random_state=42\n",
    "    )\n",
    "\n",
    "X_train = pd.DataFrame(X_train, columns=[f'X_{i}' for i in range(X.shape[1])])\n",
    "X_test = pd.DataFrame(X_test, columns=[f'X_{i}' for i in range(X.shape[1]) ])\n",
    "\n",
    "lr = LogisticRegression()\n",
    "\n",
    "\n",
    "\n",
    "\n",
    "lr.fit(X_train, y_train)   \n",
    "score = lr.score(X_test, y_train)"
   ]
  },
  {
   "cell_type": "code",
   "execution_count": null,
   "id": "502f54dd",
   "metadata": {},
   "outputs": [],
   "source": [
    "# Set experiment name \n",
    "# Set version \n",
    "# Add some tags \n",
    "\n",
    "# Load the dataset \n",
    "\n",
    "# Build ML Pipeline \n",
    "\n",
    "# Fit the model (hyperopt, calibration, and fitting)\n",
    "\n",
    "# Save the hyperopt_results\n",
    "# Save the model (with the training data)\n",
    "\n",
    "# Score the model on the testing datasets (no bootstrapping; just an easy compute)\n",
    "\n",
    "# Save the model with an experiment name with the scores, and any metadata. "
   ]
  }
 ],
 "metadata": {
  "kernelspec": {
   "display_name": "Python 3 (ipykernel)",
   "language": "python",
   "name": "python3"
  },
  "language_info": {
   "codemirror_mode": {
    "name": "ipython",
    "version": 3
   },
   "file_extension": ".py",
   "mimetype": "text/x-python",
   "name": "python",
   "nbconvert_exporter": "python",
   "pygments_lexer": "ipython3",
   "version": "3.8.10"
  }
 },
 "nbformat": 4,
 "nbformat_minor": 5
}
