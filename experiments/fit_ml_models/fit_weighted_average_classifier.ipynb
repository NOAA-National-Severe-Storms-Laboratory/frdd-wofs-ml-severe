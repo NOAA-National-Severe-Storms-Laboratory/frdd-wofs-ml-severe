{
 "cells": [
  {
   "cell_type": "code",
   "execution_count": 1,
   "id": "5e048541",
   "metadata": {},
   "outputs": [
    {
     "name": "stdout",
     "output_type": "stream",
     "text": [
      "lookup_file: /home/monte.flora/python_packages/WoF_post/wofs/data/psadilookup.dat\n"
     ]
    },
    {
     "name": "stderr",
     "output_type": "stream",
     "text": [
      "Intel(R) Extension for Scikit-learn* enabled (https://github.com/intel/scikit-learn-intelex)\n",
      "Intel(R) Extension for Scikit-learn* enabled (https://github.com/intel/scikit-learn-intelex)\n",
      "Intel(R) Extension for Scikit-learn* enabled (https://github.com/intel/scikit-learn-intelex)\n"
     ]
    }
   ],
   "source": [
    "# The custom classifier \n",
    "import sys, os\n",
    "sys.path.insert(0, '/home/monte.flora/python_packages/wofs_ml_severe')\n",
    "sys.path.insert(0, '/home/monte.flora/python_packages/ml_workflow')\n",
    "sys.path.insert(0, '/home/monte.flora/python_packages/WoF_post')\n",
    "\n",
    "from wofs.ml.load_ml_models import load_ml_model\n",
    "from wofs.post.utils import load_yaml\n",
    "import pandas as pd\n",
    "import itertools\n",
    "\n",
    "from ml_workflow.weighted_average_classifier import WeightedAverageClassifier\n",
    "from sklearn.metrics import average_precision_score\n",
    "from ml_workflow.ml_methods import brier_skill_score\n",
    "from sklearn.model_selection import GroupKFold"
   ]
  },
  {
   "cell_type": "code",
   "execution_count": 2,
   "id": "9c552dea",
   "metadata": {},
   "outputs": [],
   "source": [
    "import numpy as np \n",
    "def dates_to_groups(dates, n_splits=5): \n",
    "    \"\"\"Separated different dates into a set of groups based on n_splits\"\"\"\n",
    "    df = dates.copy()\n",
    "    df = df.to_frame()\n",
    "    \n",
    "    unique_dates = np.unique(dates.values)\n",
    "    np.random.shuffle(unique_dates)\n",
    "\n",
    "    df['groups'] = np.zeros(len(dates))\n",
    "    for i, group in enumerate(np.array_split(unique_dates, n_splits)):\n",
    "        df.loc[dates.isin(group), 'groups'] = i+1 \n",
    "        \n",
    "    groups = df.groups.values\n",
    "    \n",
    "    return groups"
   ]
  },
  {
   "cell_type": "markdown",
   "id": "5d9f1551",
   "metadata": {},
   "source": [
    "### Fit the Official Weighted Average Classifiers"
   ]
  },
  {
   "cell_type": "code",
   "execution_count": 3,
   "id": "74d7340a",
   "metadata": {},
   "outputs": [],
   "source": [
    "def return_best_val_score(model_name, target, time, \n",
    "                          resample = None, retro_str = 'realtime'): \n",
    "    \"\"\"Return the best cross-validation score from the hyperparam tuning. \"\"\"\n",
    "    BASE_PATH =  '/work/mflora/ML_DATA/NEW_ML_MODELS/hyperopt_results'\n",
    "    \n",
    "    fname = os.path.join(BASE_PATH, \n",
    "                    f'{model_name}_{target}_{resample}_{time}_{retro_str}.feather')\n",
    "\n",
    "    df = pd.read_feather(fname)\n",
    "    ascending = False if model_name == \"LogisticRegression\" else True\n",
    "    df_sorted = df.sort_values(by='loss', ascending=ascending)['loss']\n",
    "    \n",
    "    df_sorted.reset_index(inplace=True, drop=True)\n",
    "    \n",
    "    val = df_sorted[0]\n",
    "    \n",
    "    if val < 0:\n",
    "        return -val\n",
    "    else:\n",
    "        return val \n",
    "    \n",
    "def get_weights(model_names, time, target):\n",
    "    \"\"\"Compute the weights for the weighted averaging.\"\"\"\n",
    "    scores = [return_best_val_score(model_name, target, time) for model_name in model_names]\n",
    "    total_scores = np.sum(scores)\n",
    "    return scores / total_scores \n",
    "    "
   ]
  },
  {
   "cell_type": "code",
   "execution_count": null,
   "id": "1e48a003",
   "metadata": {},
   "outputs": [
    {
     "name": "stdout",
     "output_type": "stream",
     "text": [
      "lookup_file: /home/monte.flora/python_packages/WoF_post/wofs/data/psadilookup.dat\n",
      "\n",
      " Hazard: WIND_SEVERE_0KM....Time : FIRST_HOUR\n",
      "Classifier Weights: [0.51104317 0.48895683]\n",
      "\n",
      " Hazard: WIND_SEVERE_0KM....Time : SECOND_HOUR\n"
     ]
    }
   ],
   "source": [
    "from wofs_ml_severe.io.load_ml_models import load_ml_model\n",
    "\n",
    "times = ['first_hour', 'second_hour']\n",
    "config_path = '/home/monte.flora/python_packages/wofs_ml_severe/wofs_ml_severe/conf/ml_config_realtime.yml'\n",
    "targets = ['wind_severe_0km']\n",
    "model_names = ['LogisticRegression', 'XGBoost'] \n",
    "\n",
    "\n",
    "ml_config = load_yaml(config_path)\n",
    "OUT_PATH = '/work/mflora/ML_DATA/NEW_ML_MODELS'  \n",
    "retro_str = 'realtime'\n",
    "    \n",
    "    \n",
    "for target, time in itertools.product(targets, times):\n",
    "    print(f'\\n Hazard: {target.upper()}....Time : {time.upper()}')\n",
    "    estimators = [] \n",
    "    for model_name in model_names: \n",
    "        parameters = {\n",
    "                'target' : target,\n",
    "                'time' : time, \n",
    "                'drop_opt' : '',\n",
    "                'model_name' : model_name,\n",
    "                'ml_config' : ml_config,\n",
    "            }\n",
    "    \n",
    "    \n",
    "        model_dict = load_ml_model(**parameters)\n",
    "        model = model_dict['model']\n",
    "        features = model_dict['X'].columns\n",
    "\n",
    "        estimators.append(model)\n",
    "\n",
    "    # Fit the WeightedAverageClassifier\n",
    "    weights = get_weights(model_names, time, target)\n",
    "    clf = WeightedAverageClassifier(estimators,  weights=weights)\n",
    "    #clf.fit(X, y)\n",
    "    clf.features = features\n",
    "    \n",
    "    clf.save(os.path.join(OUT_PATH, f'Average_{target}_None_{time}_{retro_str}.joblib'))\n",
    "    \n",
    "    print(f'Classifier Weights: {clf.weights_}')\n",
    "\n",
    "    \"\"\"\n",
    "    # Load the old testing dataset. \n",
    "    test_df = pd.read_feather(\n",
    "        f'/work/mflora/ML_DATA/DATA/original_{time}_testing_matched_to_{target}_0km_data.feather')\n",
    "\n",
    "    X_test = test_df[features].astype(float)\n",
    "    y_test = test_df[f'matched_to_{target}_0km'].astype(float)   \n",
    "    y_pred = clf.predict_proba(X_test)[:,1]\n",
    "    aupdc = average_precision_score(y_test, y_pred)\n",
    "    bss = brier_skill_score(y_test, y_pred)\n",
    "    print(f'AUPDC: {aupdc:.3f} BSS:{bss:.3f}')\n",
    "\n",
    "    model_name = 'Average'\n",
    "    resample = None \n",
    "    scaler =None\n",
    "    drop_opt=''\n",
    "\n",
    "    clf.save(os.path.join(OUT_PATH, f'{model_name}_{time}_{target}_{resample}_{scaler}_{drop_opt}.pkl'))\n",
    "    \n",
    "    # RF score \n",
    "    y_pred = estimators[1].predict_proba(X_test)[:,1]\n",
    "    aupdc = average_precision_score(y_test, y_pred)\n",
    "    bss = brier_skill_score(y_test, y_pred)\n",
    "    print(f'RF....AUPDC: {aupdc:.3f} BSS:{bss:.3f}')\n",
    "\n",
    "    # Logistic regression score \n",
    "    y_pred = estimators[0].predict_proba(X_test)[:,1]\n",
    "    aupdc = average_precision_score(y_test, y_pred)\n",
    "    bss = brier_skill_score(y_test, y_pred)\n",
    "    print(f'LR....AUPDC: {aupdc:.3f} BSS:{bss:.3f}')\n",
    "    \"\"\""
   ]
  },
  {
   "cell_type": "code",
   "execution_count": null,
   "id": "8a98154f",
   "metadata": {},
   "outputs": [],
   "source": [
    "# Successfully loaded the weighted average classifier. \n",
    "parameters = {\n",
    "                'target' : target,\n",
    "                'time' : time, \n",
    "                'drop_opt' : '',\n",
    "                'model_name' : 'Average',\n",
    "                'ml_config' : ml_config,\n",
    "            }\n",
    "    \n",
    "model_dict = load_ml_model(**parameters)\n",
    "model_dict['features']\n",
    "model_dict['model']"
   ]
  }
 ],
 "metadata": {
  "kernelspec": {
   "display_name": "Python 3 (ipykernel)",
   "language": "python",
   "name": "python3"
  },
  "language_info": {
   "codemirror_mode": {
    "name": "ipython",
    "version": 3
   },
   "file_extension": ".py",
   "mimetype": "text/x-python",
   "name": "python",
   "nbconvert_exporter": "python",
   "pygments_lexer": "ipython3",
   "version": "3.8.15"
  }
 },
 "nbformat": 4,
 "nbformat_minor": 5
}
