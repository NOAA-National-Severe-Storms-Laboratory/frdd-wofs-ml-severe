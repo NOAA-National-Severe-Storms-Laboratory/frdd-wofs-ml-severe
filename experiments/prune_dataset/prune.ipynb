{
 "cells": [
  {
   "cell_type": "markdown",
   "id": "f1f13325",
   "metadata": {},
   "source": [
    "## Prune the Dataset and remove bad data "
   ]
  },
  {
   "cell_type": "code",
   "execution_count": 1,
   "id": "ac239d27",
   "metadata": {},
   "outputs": [
    {
     "name": "stdout",
     "output_type": "stream",
     "text": [
      "lookup_file: /home/monte.flora/python_packages/WoF_post/wofs/data/psadilookup.dat\n",
      "lookup_file: /home/monte.flora/python_packages/WoF_post/wofs/data/psadilookup.dat\n"
     ]
    }
   ],
   "source": [
    "import sys\n",
    "sys.path.insert(0, '/home/monte.flora/python_packages/WoF_post')\n",
    "sys.path.insert(0, '/home/monte.flora/python_packages/wofs_ml_severe')\n",
    "\n",
    "from wofs_ml_severe.io.io import load_ml_data\n",
    "import numpy as np\n",
    "import os "
   ]
  },
  {
   "cell_type": "code",
   "execution_count": 2,
   "id": "5e6606ce",
   "metadata": {},
   "outputs": [],
   "source": [
    "def remove_bad_data(X, X_bl):\n",
    "    # Remove obviously bad data. \n",
    "    # Need to include y and metadata back in. \n",
    "    # Need to make sure we remove the same examples \n",
    "    # from the baseline dataset!!\n",
    "    \n",
    "    feature_rngs = {'w_up__time_max__amp_ens_max' : 100,\n",
    "                'comp_dz__time_max__amp_ens_max' : 90,\n",
    "                'cape_ml__ens_mean__spatial_mean' : 20000,\n",
    "               }\n",
    "                \n",
    "    X_subset = X.copy()\n",
    "    X_bl_subset = X_bl.copy() \n",
    "    for f, val in feature_rngs.items(): \n",
    "        X_bl_subset = X_bl_subset.loc[X_subset[f].values<=val]\n",
    "        X_subset = X_subset.loc[X_subset[f].values<=val]\n",
    "        \n",
    "    X_subset.reset_index(inplace=True, drop=True)\n",
    "    X_bl_subset.reset_index(inplace=True, drop=True)\n",
    "\n",
    "    return X_subset, X_bl_subset "
   ]
  },
  {
   "cell_type": "code",
   "execution_count": null,
   "id": "a390b12e",
   "metadata": {},
   "outputs": [
    {
     "name": "stdout",
     "output_type": "stream",
     "text": [
      "Only keeping warm season cases for the official training!\n",
      "212 ['theta_e__ens_mean__spatial_mean', 'u_10__ens_mean__spatial_mean', 'v_10__ens_mean__spatial_mean', 'temperature_850__ens_mean__spatial_mean', 'temperature_700__ens_mean__spatial_mean', 'temperature_500__ens_mean__spatial_mean', 'td_850__ens_mean__spatial_mean', 'td_700__ens_mean__spatial_mean', 'td_500__ens_mean__spatial_mean', 'mid_level_lapse_rate__ens_mean__spatial_mean', 'low_level_lapse_rate__ens_mean__spatial_mean', 'geo_hgt_850__ens_mean__spatial_mean', 'geo_hgt_500__ens_mean__spatial_mean', 'geo_hgt_700__ens_mean__spatial_mean', 'QVAPOR_850__ens_mean__spatial_mean', 'QVAPOR_700__ens_mean__spatial_mean', 'QVAPOR_500__ens_mean__spatial_mean', 'qv_2__ens_mean__spatial_mean', 'freezing_level__ens_mean__spatial_mean', 'srh_0to1__ens_mean__spatial_mean', 'srh_0to3__ens_mean__spatial_mean', 'srh_0to500__ens_mean__spatial_mean', 'cape_ml__ens_mean__spatial_mean', 'cin_ml__ens_mean__spatial_mean', 'shear_u_0to6__ens_mean__spatial_mean', 'shear_v_0to6__ens_mean__spatial_mean', 'shear_u_0to1__ens_mean__spatial_mean', 'shear_v_0to1__ens_mean__spatial_mean', 'shear_u_3to6__ens_mean__spatial_mean', 'shear_v_3to6__ens_mean__spatial_mean', 'stp__ens_mean__spatial_mean', 'stp_srh0to500__ens_mean__spatial_mean', 'lcl_ml__ens_mean__spatial_mean', 'uh_0to2_instant__time_max__ens_mean__spatial_mean', 'uh_2to5_instant__time_max__ens_mean__spatial_mean', 'wz_0to2_instant__time_max__ens_mean__spatial_mean', 'comp_dz__time_max__ens_mean__spatial_mean', 'ws_80__time_max__ens_mean__spatial_mean', 'w_up__time_max__ens_mean__spatial_mean', 'hailcast__time_max__ens_mean__spatial_mean', 'w_1km__time_max__ens_mean__spatial_mean', '10-500m_bulkshear__time_max__ens_mean__spatial_mean', 'dbz_3to5__time_max__ens_mean__spatial_mean', 'dbz_1to3__time_max__ens_mean__spatial_mean', 'dbz_1km__time_max__ens_mean__spatial_mean', 'ctt__time_min__ens_mean__spatial_mean', 'buoyancy__time_min__ens_mean__spatial_mean', 'div_10m__time_min__ens_mean__spatial_mean', 'w_down__time_min__ens_mean__spatial_mean', 'okubo_weiss__time_min__ens_mean__spatial_mean', 'theta_e__ens_std__spatial_mean', 'u_10__ens_std__spatial_mean', 'v_10__ens_std__spatial_mean', 'temperature_850__ens_std__spatial_mean', 'temperature_700__ens_std__spatial_mean', 'temperature_500__ens_std__spatial_mean', 'td_850__ens_std__spatial_mean', 'td_700__ens_std__spatial_mean', 'td_500__ens_std__spatial_mean', 'mid_level_lapse_rate__ens_std__spatial_mean', 'low_level_lapse_rate__ens_std__spatial_mean', 'geo_hgt_850__ens_std__spatial_mean', 'geo_hgt_500__ens_std__spatial_mean', 'geo_hgt_700__ens_std__spatial_mean', 'QVAPOR_850__ens_std__spatial_mean', 'QVAPOR_700__ens_std__spatial_mean', 'QVAPOR_500__ens_std__spatial_mean', 'qv_2__ens_std__spatial_mean', 'freezing_level__ens_std__spatial_mean', 'srh_0to1__ens_std__spatial_mean', 'srh_0to3__ens_std__spatial_mean', 'srh_0to500__ens_std__spatial_mean', 'cape_ml__ens_std__spatial_mean', 'cin_ml__ens_std__spatial_mean', 'shear_u_0to6__ens_std__spatial_mean', 'shear_v_0to6__ens_std__spatial_mean', 'shear_u_0to1__ens_std__spatial_mean', 'shear_v_0to1__ens_std__spatial_mean', 'shear_u_3to6__ens_std__spatial_mean', 'shear_v_3to6__ens_std__spatial_mean', 'stp__ens_std__spatial_mean', 'stp_srh0to500__ens_std__spatial_mean', 'lcl_ml__ens_std__spatial_mean', 'uh_0to2_instant__time_max__ens_std__spatial_mean', 'uh_2to5_instant__time_max__ens_std__spatial_mean', 'wz_0to2_instant__time_max__ens_std__spatial_mean', 'comp_dz__time_max__ens_std__spatial_mean', 'ws_80__time_max__ens_std__spatial_mean', 'w_up__time_max__ens_std__spatial_mean', 'hailcast__time_max__ens_std__spatial_mean', 'w_1km__time_max__ens_std__spatial_mean', '10-500m_bulkshear__time_max__ens_std__spatial_mean', 'dbz_3to5__time_max__ens_std__spatial_mean', 'dbz_1to3__time_max__ens_std__spatial_mean', 'dbz_1km__time_max__ens_std__spatial_mean', 'ctt__time_min__ens_std__spatial_mean', 'buoyancy__time_min__ens_std__spatial_mean', 'div_10m__time_min__ens_std__spatial_mean', 'w_down__time_min__ens_std__spatial_mean', 'okubo_weiss__time_min__ens_std__spatial_mean', 'uh_0to2_instant__time_max__ens_max__spatial_mean', 'uh_2to5_instant__time_max__ens_max__spatial_mean', 'wz_0to2_instant__time_max__ens_max__spatial_mean', 'comp_dz__time_max__ens_max__spatial_mean', 'ws_80__time_max__ens_max__spatial_mean', 'w_up__time_max__ens_max__spatial_mean', 'hailcast__time_max__ens_max__spatial_mean', 'w_1km__time_max__ens_max__spatial_mean', '10-500m_bulkshear__time_max__ens_max__spatial_mean', 'dbz_3to5__time_max__ens_max__spatial_mean', 'dbz_1to3__time_max__ens_max__spatial_mean', 'dbz_1km__time_max__ens_max__spatial_mean', 'ctt__time_min__ens_min__spatial_mean', 'buoyancy__time_min__ens_min__spatial_mean', 'div_10m__time_min__ens_min__spatial_mean', 'w_down__time_min__ens_min__spatial_mean', 'okubo_weiss__time_min__ens_min__spatial_mean', 'w_up__time_max__amp_ens_std', 'w_up__time_max__amp_ens_std__cond', 'w_up__time_max__amp_ens_mean', 'w_up__time_max__amp_ens_mean__cond', 'w_up__time_max__amp_ens_max', 'uh_0to2_instant__time_max__amp_ens_std', 'uh_0to2_instant__time_max__amp_ens_std__cond', 'uh_0to2_instant__time_max__amp_ens_mean', 'uh_0to2_instant__time_max__amp_ens_mean__cond', 'uh_0to2_instant__time_max__amp_ens_max', 'uh_2to5_instant__time_max__amp_ens_std', 'uh_2to5_instant__time_max__amp_ens_std__cond', 'uh_2to5_instant__time_max__amp_ens_mean', 'uh_2to5_instant__time_max__amp_ens_mean__cond', 'uh_2to5_instant__time_max__amp_ens_max', 'wz_0to2_instant__time_max__amp_ens_std', 'wz_0to2_instant__time_max__amp_ens_std__cond', 'wz_0to2_instant__time_max__amp_ens_mean', 'wz_0to2_instant__time_max__amp_ens_mean__cond', 'wz_0to2_instant__time_max__amp_ens_max', 'comp_dz__time_max__amp_ens_std', 'comp_dz__time_max__amp_ens_std__cond', 'comp_dz__time_max__amp_ens_mean', 'comp_dz__time_max__amp_ens_mean__cond', 'comp_dz__time_max__amp_ens_max', 'ws_80__time_max__amp_ens_std', 'ws_80__time_max__amp_ens_std__cond', 'ws_80__time_max__amp_ens_mean', 'ws_80__time_max__amp_ens_mean__cond', 'ws_80__time_max__amp_ens_max', 'hailcast__time_max__amp_ens_std', 'hailcast__time_max__amp_ens_std__cond', 'hailcast__time_max__amp_ens_mean', 'hailcast__time_max__amp_ens_mean__cond', 'hailcast__time_max__amp_ens_max', 'w_1km__time_max__amp_ens_std', 'w_1km__time_max__amp_ens_std__cond', 'w_1km__time_max__amp_ens_mean', 'w_1km__time_max__amp_ens_mean__cond', 'w_1km__time_max__amp_ens_max', '10-500m_bulkshear__time_max__amp_ens_std', '10-500m_bulkshear__time_max__amp_ens_std__cond', '10-500m_bulkshear__time_max__amp_ens_mean', '10-500m_bulkshear__time_max__amp_ens_mean__cond', '10-500m_bulkshear__time_max__amp_ens_max', 'dbz_3to5__time_max__amp_ens_std', 'dbz_3to5__time_max__amp_ens_std__cond', 'dbz_3to5__time_max__amp_ens_mean', 'dbz_3to5__time_max__amp_ens_mean__cond', 'dbz_3to5__time_max__amp_ens_max', 'dbz_1to3__time_max__amp_ens_std', 'dbz_1to3__time_max__amp_ens_std__cond', 'dbz_1to3__time_max__amp_ens_mean', 'dbz_1to3__time_max__amp_ens_mean__cond', 'dbz_1to3__time_max__amp_ens_max', 'dbz_1km__time_max__amp_ens_std', 'dbz_1km__time_max__amp_ens_std__cond', 'dbz_1km__time_max__amp_ens_mean', 'dbz_1km__time_max__amp_ens_mean__cond', 'dbz_1km__time_max__amp_ens_max', 'ctt__time_min__amp_ens_std', 'ctt__time_min__amp_ens_std__cond', 'ctt__time_min__amp_ens_mean', 'ctt__time_min__amp_ens_mean__cond', 'ctt__time_min__amp_ens_max', 'buoyancy__time_min__amp_ens_std', 'buoyancy__time_min__amp_ens_std__cond', 'buoyancy__time_min__amp_ens_mean', 'buoyancy__time_min__amp_ens_mean__cond', 'buoyancy__time_min__amp_ens_max', 'div_10m__time_min__amp_ens_std', 'div_10m__time_min__amp_ens_std__cond', 'div_10m__time_min__amp_ens_mean', 'div_10m__time_min__amp_ens_mean__cond', 'div_10m__time_min__amp_ens_max', 'w_down__time_min__amp_ens_std', 'w_down__time_min__amp_ens_std__cond', 'w_down__time_min__amp_ens_mean', 'w_down__time_min__amp_ens_mean__cond', 'w_down__time_min__amp_ens_max', 'okubo_weiss__time_min__amp_ens_std', 'okubo_weiss__time_min__amp_ens_std__cond', 'okubo_weiss__time_min__amp_ens_mean', 'okubo_weiss__time_min__amp_ens_mean__cond', 'okubo_weiss__time_min__amp_ens_max', 'area', 'eccentricity', 'extent', 'orientation', 'minor_axis_length', 'major_axis_length', 'ens_track_prob', 'area_ratio', 'avg_updraft_track_area', 'Initialization Time']\n"
     ]
    },
    {
     "name": "stdout",
     "output_type": "stream",
     "text": [
      "Only keeping warm season cases for the official training!\n",
      "4 ['uh_nmep_>180_0km__prob_max', 'wind_nmep_>40_0km__prob_max', 'hail_nmep_>1.0_0km__prob_max', 'Initialization Time']\n",
      "Only keeping warm season cases for the official training!\n",
      "212 ['theta_e__ens_mean__spatial_mean', 'u_10__ens_mean__spatial_mean', 'v_10__ens_mean__spatial_mean', 'temperature_850__ens_mean__spatial_mean', 'temperature_700__ens_mean__spatial_mean', 'temperature_500__ens_mean__spatial_mean', 'td_850__ens_mean__spatial_mean', 'td_700__ens_mean__spatial_mean', 'td_500__ens_mean__spatial_mean', 'mid_level_lapse_rate__ens_mean__spatial_mean', 'low_level_lapse_rate__ens_mean__spatial_mean', 'geo_hgt_850__ens_mean__spatial_mean', 'geo_hgt_500__ens_mean__spatial_mean', 'geo_hgt_700__ens_mean__spatial_mean', 'QVAPOR_850__ens_mean__spatial_mean', 'QVAPOR_700__ens_mean__spatial_mean', 'QVAPOR_500__ens_mean__spatial_mean', 'qv_2__ens_mean__spatial_mean', 'freezing_level__ens_mean__spatial_mean', 'srh_0to1__ens_mean__spatial_mean', 'srh_0to3__ens_mean__spatial_mean', 'srh_0to500__ens_mean__spatial_mean', 'cape_ml__ens_mean__spatial_mean', 'cin_ml__ens_mean__spatial_mean', 'shear_u_0to6__ens_mean__spatial_mean', 'shear_v_0to6__ens_mean__spatial_mean', 'shear_u_0to1__ens_mean__spatial_mean', 'shear_v_0to1__ens_mean__spatial_mean', 'shear_u_3to6__ens_mean__spatial_mean', 'shear_v_3to6__ens_mean__spatial_mean', 'stp__ens_mean__spatial_mean', 'stp_srh0to500__ens_mean__spatial_mean', 'lcl_ml__ens_mean__spatial_mean', 'uh_0to2_instant__time_max__ens_mean__spatial_mean', 'uh_2to5_instant__time_max__ens_mean__spatial_mean', 'wz_0to2_instant__time_max__ens_mean__spatial_mean', 'comp_dz__time_max__ens_mean__spatial_mean', 'ws_80__time_max__ens_mean__spatial_mean', 'w_up__time_max__ens_mean__spatial_mean', 'hailcast__time_max__ens_mean__spatial_mean', 'w_1km__time_max__ens_mean__spatial_mean', '10-500m_bulkshear__time_max__ens_mean__spatial_mean', 'dbz_3to5__time_max__ens_mean__spatial_mean', 'dbz_1to3__time_max__ens_mean__spatial_mean', 'dbz_1km__time_max__ens_mean__spatial_mean', 'ctt__time_min__ens_mean__spatial_mean', 'buoyancy__time_min__ens_mean__spatial_mean', 'div_10m__time_min__ens_mean__spatial_mean', 'w_down__time_min__ens_mean__spatial_mean', 'okubo_weiss__time_min__ens_mean__spatial_mean', 'theta_e__ens_std__spatial_mean', 'u_10__ens_std__spatial_mean', 'v_10__ens_std__spatial_mean', 'temperature_850__ens_std__spatial_mean', 'temperature_700__ens_std__spatial_mean', 'temperature_500__ens_std__spatial_mean', 'td_850__ens_std__spatial_mean', 'td_700__ens_std__spatial_mean', 'td_500__ens_std__spatial_mean', 'mid_level_lapse_rate__ens_std__spatial_mean', 'low_level_lapse_rate__ens_std__spatial_mean', 'geo_hgt_850__ens_std__spatial_mean', 'geo_hgt_500__ens_std__spatial_mean', 'geo_hgt_700__ens_std__spatial_mean', 'QVAPOR_850__ens_std__spatial_mean', 'QVAPOR_700__ens_std__spatial_mean', 'QVAPOR_500__ens_std__spatial_mean', 'qv_2__ens_std__spatial_mean', 'freezing_level__ens_std__spatial_mean', 'srh_0to1__ens_std__spatial_mean', 'srh_0to3__ens_std__spatial_mean', 'srh_0to500__ens_std__spatial_mean', 'cape_ml__ens_std__spatial_mean', 'cin_ml__ens_std__spatial_mean', 'shear_u_0to6__ens_std__spatial_mean', 'shear_v_0to6__ens_std__spatial_mean', 'shear_u_0to1__ens_std__spatial_mean', 'shear_v_0to1__ens_std__spatial_mean', 'shear_u_3to6__ens_std__spatial_mean', 'shear_v_3to6__ens_std__spatial_mean', 'stp__ens_std__spatial_mean', 'stp_srh0to500__ens_std__spatial_mean', 'lcl_ml__ens_std__spatial_mean', 'uh_0to2_instant__time_max__ens_std__spatial_mean', 'uh_2to5_instant__time_max__ens_std__spatial_mean', 'wz_0to2_instant__time_max__ens_std__spatial_mean', 'comp_dz__time_max__ens_std__spatial_mean', 'ws_80__time_max__ens_std__spatial_mean', 'w_up__time_max__ens_std__spatial_mean', 'hailcast__time_max__ens_std__spatial_mean', 'w_1km__time_max__ens_std__spatial_mean', '10-500m_bulkshear__time_max__ens_std__spatial_mean', 'dbz_3to5__time_max__ens_std__spatial_mean', 'dbz_1to3__time_max__ens_std__spatial_mean', 'dbz_1km__time_max__ens_std__spatial_mean', 'ctt__time_min__ens_std__spatial_mean', 'buoyancy__time_min__ens_std__spatial_mean', 'div_10m__time_min__ens_std__spatial_mean', 'w_down__time_min__ens_std__spatial_mean', 'okubo_weiss__time_min__ens_std__spatial_mean', 'uh_0to2_instant__time_max__ens_max__spatial_mean', 'uh_2to5_instant__time_max__ens_max__spatial_mean', 'wz_0to2_instant__time_max__ens_max__spatial_mean', 'comp_dz__time_max__ens_max__spatial_mean', 'ws_80__time_max__ens_max__spatial_mean', 'w_up__time_max__ens_max__spatial_mean', 'hailcast__time_max__ens_max__spatial_mean', 'w_1km__time_max__ens_max__spatial_mean', '10-500m_bulkshear__time_max__ens_max__spatial_mean', 'dbz_3to5__time_max__ens_max__spatial_mean', 'dbz_1to3__time_max__ens_max__spatial_mean', 'dbz_1km__time_max__ens_max__spatial_mean', 'ctt__time_min__ens_min__spatial_mean', 'buoyancy__time_min__ens_min__spatial_mean', 'div_10m__time_min__ens_min__spatial_mean', 'w_down__time_min__ens_min__spatial_mean', 'okubo_weiss__time_min__ens_min__spatial_mean', 'w_up__time_max__amp_ens_std', 'w_up__time_max__amp_ens_std__cond', 'w_up__time_max__amp_ens_mean', 'w_up__time_max__amp_ens_mean__cond', 'w_up__time_max__amp_ens_max', 'uh_0to2_instant__time_max__amp_ens_std', 'uh_0to2_instant__time_max__amp_ens_std__cond', 'uh_0to2_instant__time_max__amp_ens_mean', 'uh_0to2_instant__time_max__amp_ens_mean__cond', 'uh_0to2_instant__time_max__amp_ens_max', 'uh_2to5_instant__time_max__amp_ens_std', 'uh_2to5_instant__time_max__amp_ens_std__cond', 'uh_2to5_instant__time_max__amp_ens_mean', 'uh_2to5_instant__time_max__amp_ens_mean__cond', 'uh_2to5_instant__time_max__amp_ens_max', 'wz_0to2_instant__time_max__amp_ens_std', 'wz_0to2_instant__time_max__amp_ens_std__cond', 'wz_0to2_instant__time_max__amp_ens_mean', 'wz_0to2_instant__time_max__amp_ens_mean__cond', 'wz_0to2_instant__time_max__amp_ens_max', 'comp_dz__time_max__amp_ens_std', 'comp_dz__time_max__amp_ens_std__cond', 'comp_dz__time_max__amp_ens_mean', 'comp_dz__time_max__amp_ens_mean__cond', 'comp_dz__time_max__amp_ens_max', 'ws_80__time_max__amp_ens_std', 'ws_80__time_max__amp_ens_std__cond', 'ws_80__time_max__amp_ens_mean', 'ws_80__time_max__amp_ens_mean__cond', 'ws_80__time_max__amp_ens_max', 'hailcast__time_max__amp_ens_std', 'hailcast__time_max__amp_ens_std__cond', 'hailcast__time_max__amp_ens_mean', 'hailcast__time_max__amp_ens_mean__cond', 'hailcast__time_max__amp_ens_max', 'w_1km__time_max__amp_ens_std', 'w_1km__time_max__amp_ens_std__cond', 'w_1km__time_max__amp_ens_mean', 'w_1km__time_max__amp_ens_mean__cond', 'w_1km__time_max__amp_ens_max', '10-500m_bulkshear__time_max__amp_ens_std', '10-500m_bulkshear__time_max__amp_ens_std__cond', '10-500m_bulkshear__time_max__amp_ens_mean', '10-500m_bulkshear__time_max__amp_ens_mean__cond', '10-500m_bulkshear__time_max__amp_ens_max', 'dbz_3to5__time_max__amp_ens_std', 'dbz_3to5__time_max__amp_ens_std__cond', 'dbz_3to5__time_max__amp_ens_mean', 'dbz_3to5__time_max__amp_ens_mean__cond', 'dbz_3to5__time_max__amp_ens_max', 'dbz_1to3__time_max__amp_ens_std', 'dbz_1to3__time_max__amp_ens_std__cond', 'dbz_1to3__time_max__amp_ens_mean', 'dbz_1to3__time_max__amp_ens_mean__cond', 'dbz_1to3__time_max__amp_ens_max', 'dbz_1km__time_max__amp_ens_std', 'dbz_1km__time_max__amp_ens_std__cond', 'dbz_1km__time_max__amp_ens_mean', 'dbz_1km__time_max__amp_ens_mean__cond', 'dbz_1km__time_max__amp_ens_max', 'ctt__time_min__amp_ens_std', 'ctt__time_min__amp_ens_std__cond', 'ctt__time_min__amp_ens_mean', 'ctt__time_min__amp_ens_mean__cond', 'ctt__time_min__amp_ens_max', 'buoyancy__time_min__amp_ens_std', 'buoyancy__time_min__amp_ens_std__cond', 'buoyancy__time_min__amp_ens_mean', 'buoyancy__time_min__amp_ens_mean__cond', 'buoyancy__time_min__amp_ens_max', 'div_10m__time_min__amp_ens_std', 'div_10m__time_min__amp_ens_std__cond', 'div_10m__time_min__amp_ens_mean', 'div_10m__time_min__amp_ens_mean__cond', 'div_10m__time_min__amp_ens_max', 'w_down__time_min__amp_ens_std', 'w_down__time_min__amp_ens_std__cond', 'w_down__time_min__amp_ens_mean', 'w_down__time_min__amp_ens_mean__cond', 'w_down__time_min__amp_ens_max', 'okubo_weiss__time_min__amp_ens_std', 'okubo_weiss__time_min__amp_ens_std__cond', 'okubo_weiss__time_min__amp_ens_mean', 'okubo_weiss__time_min__amp_ens_mean__cond', 'okubo_weiss__time_min__amp_ens_max', 'area', 'eccentricity', 'extent', 'orientation', 'minor_axis_length', 'major_axis_length', 'ens_track_prob', 'area_ratio', 'avg_updraft_track_area', 'Initialization Time']\n"
     ]
    },
    {
     "name": "stdout",
     "output_type": "stream",
     "text": [
      "Only keeping warm season cases for the official training!\n",
      "4 ['uh_nmep_>180_0km__prob_max', 'wind_nmep_>40_0km__prob_max', 'hail_nmep_>1.0_0km__prob_max', 'Initialization Time']\n"
     ]
    }
   ],
   "source": [
    "times = ['first_hour', 'second_hour', 'third_hour', 'fourth_hour']\n",
    "base_path = '/work/mflora/ML_DATA/DATA'\n",
    "\n",
    "for time in times: \n",
    "    X = load_ml_data('hail_severe_0km', \n",
    "                 lead_time = time, \n",
    "                 mode = None, \n",
    "                 return_only_df=True,\n",
    "                 base_path = '/work/mflora/ML_DATA/DATA',\n",
    "                     load_reduced=False\n",
    "                )\n",
    "    \n",
    "    X_bl = load_ml_data('hail_severe_0km', \n",
    "                 lead_time = time, \n",
    "                 mode = None, \n",
    "                 return_only_df=True,\n",
    "                 baseline=True,\n",
    "                 base_path = '/work/mflora/ML_DATA/DATA',\n",
    "                        load_reduced=False\n",
    "                )\n",
    "    \n",
    "\n",
    "    blpath = os.path.join(base_path, f'wofs_ml_severe__{time}__baseline_reduced_data.feather')\n",
    "    path = os.path.join(base_path, f'wofs_ml_severe__{time}__reduced_data.feather')\n",
    "    \n",
    "    X_new, X_bl_new = remove_bad_data(X, X_bl)\n",
    "\n",
    "    # Save the reduced dataset. \n",
    "    X_new, X_bl_new = remove_bad_data(X, X_bl)\n",
    "\n",
    "    X_new.to_feather(path)\n",
    "    X_bl_new.to_feather(blpath)"
   ]
  },
  {
   "cell_type": "code",
   "execution_count": null,
   "id": "c6f7c00c",
   "metadata": {},
   "outputs": [],
   "source": [
    "X = load_ml_data('hail_severe_0km', \n",
    "                 lead_time = 'first_hour', \n",
    "                 mode = None, \n",
    "                 return_only_df=True,\n",
    "                 base_path = '/work/mflora/ML_DATA/DATA',\n",
    "                     load_reduced=True\n",
    "                )\n",
    "\n",
    "list(X.columns)"
   ]
  }
 ],
 "metadata": {
  "kernelspec": {
   "display_name": "Python 3 (ipykernel)",
   "language": "python",
   "name": "python3"
  },
  "language_info": {
   "codemirror_mode": {
    "name": "ipython",
    "version": 3
   },
   "file_extension": ".py",
   "mimetype": "text/x-python",
   "name": "python",
   "nbconvert_exporter": "python",
   "pygments_lexer": "ipython3",
   "version": "3.8.15"
  }
 },
 "nbformat": 4,
 "nbformat_minor": 5
}
