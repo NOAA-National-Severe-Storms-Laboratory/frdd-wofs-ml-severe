{
 "cells": [
  {
   "cell_type": "code",
   "execution_count": 1,
   "id": "915bbd96",
   "metadata": {},
   "outputs": [],
   "source": [
    "import numpy as np \n",
    "from tqdm import tqdm\n",
    "from os.path import join\n",
    "import pandas as pd\n",
    "import random\n",
    "from sklearn.model_selection import train_test_split\n",
    "\n",
    "\n",
    "# Split the ML dataset into training and testing. \n",
    "\n",
    "def train_test_splitter(months =['March', 'April', 'May', 'June', 'July'],\n",
    "                        test_size=0.3):\n",
    "    \"\"\"\n",
    "    Randomly split the full ML and BL datasets into training and testing \n",
    "    based on the date. The testing dataset size is based on \n",
    "    test_size, which determines the percentage of cases set aside for \n",
    "    testing. \n",
    "    \"\"\"\n",
    "    BASE_PATH = '/work/mflora/ML_DATA/DATA'\n",
    "    OUT_PATH = '/work/mflora/ML_DATA/MLDATA'\n",
    "    \n",
    "    for time in tqdm(['first_hour', 'second_hour', 'third_hour', 'fourth_hour']):\n",
    "        path = join(BASE_PATH, f'wofs_ml_severe__{time}__data.feather')\n",
    "        df = pd.read_feather(path)\n",
    "    \n",
    "        print(f'Full Dataset Shape: {df.shape=}')\n",
    "    \n",
    "        baseline_path = join(BASE_PATH, f'wofs_ml_severe__{time}__baseline_data.feather')\n",
    "        baseline_df = pd.read_feather(baseline_path)\n",
    "        \n",
    "        # Get the date from April, May, and June \n",
    "        df['Run Date'] = df['Run Date'].apply(str)\n",
    "        baseline_df['Run Date'] = baseline_df['Run Date'].apply(str)\n",
    "        \n",
    "        df = df[pd.to_datetime(df['Run Date']).dt.strftime('%B').isin(months)]\n",
    "        baseline_df = baseline_df[\n",
    "            pd.to_datetime(baseline_df['Run Date']).dt.strftime('%B').isin(months)]\n",
    "        \n",
    "        all_dates = list(df['Run Date'].unique())\n",
    "        random.shuffle(all_dates)\n",
    "        train_dates, test_dates = train_test_split(all_dates, test_size=test_size)\n",
    "    \n",
    "        train_df = df[df['Run Date'].isin(train_dates)] \n",
    "        test_df  = df[df['Run Date'].isin(test_dates)] \n",
    "    \n",
    "        train_base_df = baseline_df[baseline_df['Run Date'].isin(train_dates)] \n",
    "        test_base_df  = baseline_df[baseline_df['Run Date'].isin(test_dates)] \n",
    "    \n",
    "        print(f'Training Dataset Size: {train_df.shape=}')\n",
    "        print(f'Testing  Dataset Size: {test_df.shape=}')\n",
    "    \n",
    "        train_df.reset_index(inplace=True, drop=True)\n",
    "        test_df.reset_index(inplace=True, drop=True)\n",
    "        \n",
    "        train_base_df.reset_index(inplace=True, drop=True)\n",
    "        test_base_df.reset_index(inplace=True, drop=True)\n",
    "        \n",
    "        train_df.to_feather(join(OUT_PATH, f'wofs_ml_severe__{time}__train_data.feather'))\n",
    "        test_df.to_feather(join(OUT_PATH, f'wofs_ml_severe__{time}__test_data.feather'))\n",
    "        \n",
    "        train_base_df.to_feather(join(OUT_PATH, f'wofs_ml_severe__{time}__train_baseline_data.feather'))\n",
    "        test_base_df.to_feather(join(OUT_PATH, f'wofs_ml_severe__{time}__test_baseline_data.feather'))\n"
   ]
  },
  {
   "cell_type": "code",
   "execution_count": 2,
   "id": "cb6e94ed",
   "metadata": {},
   "outputs": [
    {
     "name": "stderr",
     "output_type": "stream",
     "text": [
      "\r",
      "  0%|                                                                                                                                                                                            | 0/4 [00:00<?, ?it/s]"
     ]
    },
    {
     "name": "stdout",
     "output_type": "stream",
     "text": [
      "Full Dataset Shape: df.shape=(999276, 238)\n",
      "Training Dataset Size: train_df.shape=(665518, 238)\n",
      "Testing  Dataset Size: test_df.shape=(273207, 238)\n"
     ]
    },
    {
     "name": "stderr",
     "output_type": "stream",
     "text": [
      "\r",
      " 25%|█████████████████████████████████████████████                                                                                                                                       | 1/4 [00:34<01:44, 34.95s/it]"
     ]
    },
    {
     "name": "stdout",
     "output_type": "stream",
     "text": [
      "Full Dataset Shape: df.shape=(957600, 238)\n",
      "Training Dataset Size: train_df.shape=(651905, 238)\n",
      "Testing  Dataset Size: test_df.shape=(252617, 238)\n"
     ]
    },
    {
     "name": "stderr",
     "output_type": "stream",
     "text": [
      "\r",
      " 50%|██████████████████████████████████████████████████████████████████████████████████████████                                                                                          | 2/4 [01:00<00:58, 29.40s/it]"
     ]
    },
    {
     "name": "stdout",
     "output_type": "stream",
     "text": [
      "Full Dataset Shape: df.shape=(805616, 238)\n",
      "Training Dataset Size: train_df.shape=(516379, 238)\n",
      "Testing  Dataset Size: test_df.shape=(238344, 238)\n"
     ]
    },
    {
     "name": "stderr",
     "output_type": "stream",
     "text": [
      "\r",
      " 75%|███████████████████████████████████████████████████████████████████████████████████████████████████████████████████████████████████████                                             | 3/4 [01:21<00:25, 25.55s/it]"
     ]
    },
    {
     "name": "stdout",
     "output_type": "stream",
     "text": [
      "Full Dataset Shape: df.shape=(600527, 238)\n",
      "Training Dataset Size: train_df.shape=(359255, 238)\n",
      "Testing  Dataset Size: test_df.shape=(192371, 238)\n"
     ]
    },
    {
     "name": "stderr",
     "output_type": "stream",
     "text": [
      "100%|████████████████████████████████████████████████████████████████████████████████████████████████████████████████████████████████████████████████████████████████████████████████████| 4/4 [01:36<00:00, 24.10s/it]\n"
     ]
    }
   ],
   "source": [
    "train_test_splitter()"
   ]
  },
  {
   "cell_type": "code",
   "execution_count": null,
   "id": "840cdb1a",
   "metadata": {},
   "outputs": [],
   "source": []
  }
 ],
 "metadata": {
  "kernelspec": {
   "display_name": "Python 3 (ipykernel)",
   "language": "python",
   "name": "python3"
  },
  "language_info": {
   "codemirror_mode": {
    "name": "ipython",
    "version": 3
   },
   "file_extension": ".py",
   "mimetype": "text/x-python",
   "name": "python",
   "nbconvert_exporter": "python",
   "pygments_lexer": "ipython3",
   "version": "3.8.13"
  }
 },
 "nbformat": 4,
 "nbformat_minor": 5
}
