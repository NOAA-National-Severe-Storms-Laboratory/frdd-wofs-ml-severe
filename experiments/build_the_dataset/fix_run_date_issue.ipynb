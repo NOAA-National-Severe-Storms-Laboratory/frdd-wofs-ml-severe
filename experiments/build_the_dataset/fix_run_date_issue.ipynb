{
 "cells": [
  {
   "cell_type": "code",
   "execution_count": 1,
   "id": "8b593adc",
   "metadata": {},
   "outputs": [],
   "source": [
    "import pandas as pd \n",
    "from glob import glob\n",
    "from os.path import dirname, basename, join\n",
    "from tqdm import tqdm\n",
    "import os"
   ]
  },
  {
   "cell_type": "code",
   "execution_count": 2,
   "id": "e7642ce9",
   "metadata": {},
   "outputs": [],
   "source": [
    "BASE_PATH = '/work/mflora/SummaryFiles/'\n",
    "\n",
    "def decompose_path(path):\n",
    "    \"\"\"Get the Run Date from the file path\"\"\"\n",
    "    outer_path = dirname(path)\n",
    "    run_date = basename(dirname(outer_path))\n",
    "    \n",
    "    return run_date\n",
    "\n",
    "def get_files(dates, file_type):\n",
    "    \"\"\"Returns a list of all file names of the given file type.\"\"\"\n",
    "    paths = []\n",
    "    for d in tqdm(dates, desc='Getting all files paths for each date:'):\n",
    "        path = join(BASE_PATH,d)\n",
    "        for (dir_path, _, file_names) in os.walk(path):\n",
    "            file_names = [join(dir_path, f) for f in file_names if file_type in f]\n",
    "            paths.extend(file_names) \n",
    "\n",
    "        \n",
    "    paths.sort()\n",
    "        \n",
    "    return paths "
   ]
  },
  {
   "cell_type": "code",
   "execution_count": 3,
   "id": "a742d324",
   "metadata": {},
   "outputs": [
    {
     "name": "stderr",
     "output_type": "stream",
     "text": [
      "Getting all files paths for each date:: 100%|█████████████████████████████████████████████████████████████████████████████████████████████████████████| 228/228 [00:01<00:00, 123.04it/s]\n"
     ]
    }
   ],
   "source": [
    "paths = get_files(os.listdir(BASE_PATH), 'wofs_MLDATA')"
   ]
  },
  {
   "cell_type": "code",
   "execution_count": 5,
   "id": "b4fc6de7",
   "metadata": {},
   "outputs": [],
   "source": [
    "paths = ['/work/mflora/SummaryFiles/20170502/0100/wofs_MLDATA_24_20170503_0230_0300.feather']"
   ]
  },
  {
   "cell_type": "code",
   "execution_count": 6,
   "id": "2bff7625",
   "metadata": {},
   "outputs": [
    {
     "name": "stderr",
     "output_type": "stream",
     "text": [
      "100%|██████████████████████████████████████████████████████████████████████████████████████████████████████████████████████████████████████████████████████| 1/1 [00:00<00:00, 27.23it/s]\n"
     ]
    }
   ],
   "source": [
    "for path in tqdm(paths):\n",
    "    try:\n",
    "        df = pd.read_feather(path)\n",
    "    except:\n",
    "        print(path)\n",
    "    run_date = decompose_path(path)\n",
    "    df['Run Date'] = [run_date]*len(df)\n",
    "    df.reset_index(drop=True, inplace=True)\n",
    "    df.to_feather(path)"
   ]
  },
  {
   "cell_type": "code",
   "execution_count": null,
   "id": "3ecfbede",
   "metadata": {},
   "outputs": [],
   "source": []
  }
 ],
 "metadata": {
  "kernelspec": {
   "display_name": "Python 3 (ipykernel)",
   "language": "python",
   "name": "python3"
  },
  "language_info": {
   "codemirror_mode": {
    "name": "ipython",
    "version": 3
   },
   "file_extension": ".py",
   "mimetype": "text/x-python",
   "name": "python",
   "nbconvert_exporter": "python",
   "pygments_lexer": "ipython3",
   "version": "3.8.13"
  }
 },
 "nbformat": 4,
 "nbformat_minor": 5
}
