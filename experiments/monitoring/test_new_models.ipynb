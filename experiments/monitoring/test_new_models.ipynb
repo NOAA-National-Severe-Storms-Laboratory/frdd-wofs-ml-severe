{
 "cells": [
  {
   "cell_type": "code",
   "execution_count": 10,
   "id": "53b5497e",
   "metadata": {},
   "outputs": [],
   "source": [
    "import pandas as pd \n",
    "import joblib\n",
    "\n",
    "import sys\n",
    "sys.path.append('/home/monte.flora/python_packages/master/ml_workflow')\n",
    "\n",
    "from WoF_post.wofs.ml.wofs_ml_severe import MLOps"
   ]
  },
  {
   "cell_type": "code",
   "execution_count": 11,
   "id": "037d5518",
   "metadata": {},
   "outputs": [],
   "source": [
    "data = joblib.load('/work/mflora/ML_DATA/new_models/LogisticRegression_first_hour_target.joblib')"
   ]
  },
  {
   "cell_type": "code",
   "execution_count": 12,
   "id": "5ec4348c",
   "metadata": {},
   "outputs": [],
   "source": [
    "model = data['model']\n",
    "features = data['features']"
   ]
  },
  {
   "cell_type": "code",
   "execution_count": 13,
   "id": "84052739",
   "metadata": {},
   "outputs": [
    {
     "data": {
      "text/plain": [
       "CalibratedPipelineHyperOptCV(base_estimator=Pipeline(steps=[('imputer',\n",
       "                                                             SimpleImputer(strategy='median')),\n",
       "                                                            ('scaler',\n",
       "                                                             StandardScaler()),\n",
       "                                                            ('resampler',\n",
       "                                                             RandomUnderSampler(random_state=42)),\n",
       "                                                            ('model',\n",
       "                                                             LogisticRegression(C=0.5,\n",
       "                                                                                l1_ratio=0.5,\n",
       "                                                                                penalty='elasticnet',\n",
       "                                                                                random_state=42,\n",
       "                                                                                solver='saga'))]),\n",
       "                             cv=KFold(n_splits=5, random_state=None, shuffle=False),\n",
       "                             cv_kwargs={'...\n",
       "101980    20190529\n",
       "101981    20190529\n",
       "101982    20190529\n",
       "101983    20190529\n",
       "Name: Run Date, Length: 101984, dtype: object,\n",
       "                                        'n_splits': 5, 'valid_size': 15},\n",
       "                             local_dir='/home/monte.flora/projects/wofs_ml_severe/train',\n",
       "                             n_jobs=5,\n",
       "                             param_grid={'C': <hyperopt.pyll.base.Apply object at 0x14d6bfc66bb0>,\n",
       "                                         'l1_ratio': <hyperopt.pyll.base.Apply object at 0x14d6bfc66910>},\n",
       "                             resample='under', scaler='standard')"
      ]
     },
     "execution_count": 13,
     "metadata": {},
     "output_type": "execute_result"
    }
   ],
   "source": [
    "model"
   ]
  },
  {
   "cell_type": "code",
   "execution_count": null,
   "id": "6f5049ce",
   "metadata": {},
   "outputs": [],
   "source": []
  }
 ],
 "metadata": {
  "kernelspec": {
   "display_name": "Python 3 (ipykernel)",
   "language": "python",
   "name": "python3"
  },
  "language_info": {
   "codemirror_mode": {
    "name": "ipython",
    "version": 3
   },
   "file_extension": ".py",
   "mimetype": "text/x-python",
   "name": "python",
   "nbconvert_exporter": "python",
   "pygments_lexer": "ipython3",
   "version": "3.8.10"
  }
 },
 "nbformat": 4,
 "nbformat_minor": 5
}
