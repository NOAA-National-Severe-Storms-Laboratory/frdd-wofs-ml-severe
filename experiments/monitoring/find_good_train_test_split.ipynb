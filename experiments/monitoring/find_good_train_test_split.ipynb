{
 "cells": [
  {
   "cell_type": "code",
   "execution_count": 1,
   "id": "88d88c96",
   "metadata": {},
   "outputs": [],
   "source": [
    "import pandas as pd\n",
    "from os.path import join\n",
    "import numpy as np\n",
    "import matplotlib.pyplot as plt\n",
    "from sklearn.model_selection import train_test_split\n",
    "import random"
   ]
  },
  {
   "cell_type": "markdown",
   "id": "5d1a237c",
   "metadata": {},
   "source": [
    "## Determine an effective way to split the data into training and testing. "
   ]
  },
  {
   "cell_type": "code",
   "execution_count": 2,
   "id": "01a09842",
   "metadata": {},
   "outputs": [],
   "source": [
    "def _train_test_split():\n",
    "    \"\"\"\n",
    "    Randomly split the full dataset into training and testing \n",
    "    based on the date. \n",
    "    \"\"\"\n",
    "    basePath = '/work/mflora/ML_DATA/DATA'\n",
    "    outPath = '/work/mflora/ML_DATA/MLDATA'\n",
    "    \n",
    "    for time in ['first_hour', 'second_hour']:\n",
    "    \n",
    "        path = join(basePath, f'wofs_ml_severe__{time}__data.feather')\n",
    "        df = pd.read_feather(path)\n",
    "    \n",
    "        print(f'{df.shape=}')\n",
    "    \n",
    "        baseline_path = join(basePath, f'wofs_ml_severe__{time}__baseline_data.feather')\n",
    "        baseline_df = pd.read_feather(baseline_path)\n",
    "        \n",
    "        # Get the date from April, May, and June \n",
    "        df['Run Date'] = df['Run Date'].apply(str)\n",
    "        baseline_df['Run Date'] = baseline_df['Run Date'].apply(str)\n",
    "        \n",
    "        \n",
    "        df = df[pd.to_datetime(df['Run Date']).dt.strftime('%B').isin(['April', 'May', 'June'])]\n",
    "        baseline_df = baseline_df[\n",
    "            pd.to_datetime(baseline_df['Run Date']).dt.strftime('%B').isin(['April', 'May', 'June'])]\n",
    "        \n",
    "        all_dates = list(df['Run Date'].unique())\n",
    "        random.shuffle(all_dates)\n",
    "        train_dates, test_dates = train_test_split(all_dates, test_size=0.3)\n",
    "    \n",
    "        train_df = df[df['Run Date'].isin(train_dates)] \n",
    "        test_df  = df[df['Run Date'].isin(test_dates)] \n",
    "    \n",
    "        train_base_df = baseline_df[baseline_df['Run Date'].isin(train_dates)] \n",
    "        test_base_df  = baseline_df[baseline_df['Run Date'].isin(test_dates)] \n",
    "    \n",
    "        print(f'{train_df.shape=}')\n",
    "        print(f'{test_df.shape=}')\n",
    "    \n",
    "        train_df.reset_index(inplace=True, drop=True)\n",
    "        test_df.reset_index(inplace=True, drop=True)\n",
    "        \n",
    "        train_base_df.reset_index(inplace=True, drop=True)\n",
    "        test_base_df.reset_index(inplace=True, drop=True)\n",
    "        \n",
    "    \n",
    "        train_df.to_feather(join(outPath, f'wofs_ml_severe__{time}__train_data.feather'))\n",
    "        test_df.to_feather(join(outPath, f'wofs_ml_severe__{time}__test_data.feather'))\n",
    "        \n",
    "        \n",
    "        train_base_df.to_feather(join(outPath, f'wofs_ml_severe__{time}__train_baseline_data.feather'))\n",
    "        test_base_df.to_feather(join(outPath, f'wofs_ml_severe__{time}__test_baseline_data.feather'))"
   ]
  },
  {
   "cell_type": "code",
   "execution_count": 3,
   "id": "aa2b6fdf",
   "metadata": {},
   "outputs": [
    {
     "name": "stdout",
     "output_type": "stream",
     "text": [
      "df.shape=(1013381, 190)\n",
      "train_df.shape=(572792, 190)\n",
      "test_df.shape=(251749, 190)\n",
      "df.shape=(1430181, 190)\n",
      "train_df.shape=(794449, 190)\n",
      "test_df.shape=(370577, 190)\n"
     ]
    }
   ],
   "source": [
    "_train_test_split()"
   ]
  },
  {
   "cell_type": "code",
   "execution_count": 4,
   "id": "cc24fa17",
   "metadata": {},
   "outputs": [],
   "source": [
    "def get_features(df):\n",
    "    \"\"\"\n",
    "    Get the feature columns from the DataFrame. \n",
    "    \"\"\"\n",
    "    ind = list(df.columns).index('hail_severe_3km')\n",
    "    info = ['forecast_time_index', 'obj_centroid_x', 'obj_centroid_y', 'Run Date', 'label']\n",
    "    non_target_vars = list(train_df.columns)[:ind]\n",
    "    features = [f for f in non_target_vars if f not in info]\n",
    "    return features"
   ]
  }
 ],
 "metadata": {
  "kernelspec": {
   "display_name": "Python 3 (ipykernel)",
   "language": "python",
   "name": "python3"
  },
  "language_info": {
   "codemirror_mode": {
    "name": "ipython",
    "version": 3
   },
   "file_extension": ".py",
   "mimetype": "text/x-python",
   "name": "python",
   "nbconvert_exporter": "python",
   "pygments_lexer": "ipython3",
   "version": "3.8.13"
  }
 },
 "nbformat": 4,
 "nbformat_minor": 5
}
