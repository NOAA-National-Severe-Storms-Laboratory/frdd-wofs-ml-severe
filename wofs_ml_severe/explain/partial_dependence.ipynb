{
 "cells": [
  {
   "cell_type": "code",
   "execution_count": 1,
   "id": "c48eba81",
   "metadata": {},
   "outputs": [],
   "source": [
    "import pandas as pd \n",
    "from os.path import join\n",
    "from glob import glob\n",
    "import joblib\n",
    "\n",
    "import sys\n",
    "sys.path.append('/home/monte.flora/python_packages/master/ml_workflow')\n",
    "sys.path.append('/home/monte.flora/python_packages/scikit-explain')\n",
    "\n",
    "import skexplain"
   ]
  },
  {
   "cell_type": "code",
   "execution_count": 2,
   "id": "8db6e3b8",
   "metadata": {},
   "outputs": [
    {
     "data": {
      "application/vnd.jupyter.widget-view+json": {
       "model_id": "cb4126d6fb654d7d94dd22213d860ed5",
       "version_major": 2,
       "version_minor": 0
      },
      "text/plain": [
       "  0%|          | 0/113 [00:00<?, ?it/s]"
      ]
     },
     "metadata": {},
     "output_type": "display_data"
    },
    {
     "data": {
      "application/vnd.jupyter.widget-view+json": {
       "model_id": "3e398bec350e486a915d00ca748a52ec",
       "version_major": 2,
       "version_minor": 0
      },
      "text/plain": [
       "  0%|          | 0/113 [00:00<?, ?it/s]"
      ]
     },
     "metadata": {},
     "output_type": "display_data"
    }
   ],
   "source": [
    "for hazard in ['severe_wind', 'severe_hail']:\n",
    "    # Load the WoFS-ML-Severe Models\n",
    "    base_path = '/work/mflora/ML_DATA/MODEL_SAVES'\n",
    "    model_name = 'LogisticRegression'\n",
    "\n",
    "    model_paths = glob(join(base_path, f'{model_name}_first_hour_{hazard}*'))\n",
    "    model_path = [m for m in model_paths if 'manual' not in m][0]\n",
    "\n",
    "    model_data = joblib.load(model_path)\n",
    "    \n",
    "    # Load the WoFS data. \n",
    "    base_path = '/work/mflora/ML_DATA/DATA'\n",
    "    data_path = join(base_path, f'original_first_hour_training_matched_to_{hazard}_0km_data.feather')\n",
    "    df = pd.read_feather(data_path)\n",
    "\n",
    "    model = model_data['model']\n",
    "    features = model_data['features']\n",
    "\n",
    "    X = df[features].astype(float)\n",
    "    y = df[f'matched_to_{hazard}_0km'].astype(float)\n",
    "    \n",
    "    explainer = skexplain.ExplainToolkit(estimators=('LogisticRegression', model), X=X, y=y)\n",
    "    results = explainer.pd(features='all',\n",
    "             n_bootstrap=10,\n",
    "             subsample=0.25,\n",
    "             n_jobs=30, \n",
    "             n_bins=20)\n",
    "    \n",
    "    base_path = '/work/mflora/ML_DATA/'\n",
    "    pd_fname = join(base_path,'PD_RESULTS', f'pd_results_all_models_{hazard}_first_hour.nc')\n",
    "\n",
    "    explainer.save(pd_fname, data=results)"
   ]
  },
  {
   "cell_type": "code",
   "execution_count": 2,
   "id": "be21af3e",
   "metadata": {},
   "outputs": [],
   "source": [
    "import sys\n",
    "sys.path.append('/home/monte.flora/python_packages/master/ml_workflow')\n",
    "sys.path.append('/work/mflora/ROAD_SURFACE')\n",
    "\n",
    "from probsr_config import PREDICTOR_COLUMNS,  TARGET_COLUMN\n",
    "from calibration_classifier import CalibratedClassifier\n",
    "\n",
    "name = 'Random Forest'\n",
    "base_path = '/work/mflora/ROAD_SURFACE'\n",
    "model = joblib.load(join(base_path, 'JTTI_ProbSR_RandomForest.pkl'))\n",
    "calibrator = joblib.load(join(base_path, 'JTTI_ProbSR_RandomForest_Isotonic.pkl'))\n",
    "model = CalibratedClassifier(model, calibrator)\n",
    "\n",
    "df = pd.read_csv(join(base_path, 'probsr_training_data.csv'))\n",
    "        \n",
    "X = df[PREDICTOR_COLUMNS].astype(float)\n",
    "y = df[TARGET_COLUMN].astype(float) "
   ]
  },
  {
   "cell_type": "code",
   "execution_count": null,
   "id": "929fe355",
   "metadata": {},
   "outputs": [
    {
     "data": {
      "application/vnd.jupyter.widget-view+json": {
       "model_id": "db4bc287e25147a6afae2436defd784f",
       "version_major": 2,
       "version_minor": 0
      },
      "text/plain": [
       "  0%|          | 0/30 [00:00<?, ?it/s]"
      ]
     },
     "metadata": {},
     "output_type": "display_data"
    }
   ],
   "source": [
    "explainer = skexplain.ExplainToolkit(estimators=(name, model), X=X, y=y)\n",
    "results = explainer.pd(features='all',\n",
    "             n_bootstrap=10,\n",
    "             subsample=0.25,\n",
    "             n_jobs=30, \n",
    "             n_bins=20)\n",
    "\n",
    "base_path = '/work/mflora/ROAD_SURFACE'\n",
    "pd_fname = join(base_path,'pd_results', f'pd_rf_original.nc')\n",
    "\n",
    "explainer.save(pd_fname, data=results)"
   ]
  },
  {
   "cell_type": "code",
   "execution_count": null,
   "id": "8026a3c0",
   "metadata": {},
   "outputs": [],
   "source": []
  }
 ],
 "metadata": {
  "kernelspec": {
   "display_name": "Python 3 (ipykernel)",
   "language": "python",
   "name": "python3"
  },
  "language_info": {
   "codemirror_mode": {
    "name": "ipython",
    "version": 3
   },
   "file_extension": ".py",
   "mimetype": "text/x-python",
   "name": "python",
   "nbconvert_exporter": "python",
   "pygments_lexer": "ipython3",
   "version": "3.8.10"
  }
 },
 "nbformat": 4,
 "nbformat_minor": 5
}
