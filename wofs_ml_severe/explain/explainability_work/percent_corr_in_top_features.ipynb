{
 "cells": [
  {
   "cell_type": "code",
   "execution_count": 1,
   "id": "28585a85",
   "metadata": {},
   "outputs": [],
   "source": [
    "from load_rankings import load_imp\n",
    "import itertools\n",
    "import numpy as np\n",
    "import seaborn as sns \n",
    "import matplotlib.pyplot as plt\n",
    "from skexplain.common.importance_utils import find_correlated_pairs_among_top_features\n",
    "from load_models_and_data import load_model_and_data"
   ]
  },
  {
   "cell_type": "code",
   "execution_count": 2,
   "id": "44ddd6a7",
   "metadata": {},
   "outputs": [
    {
     "name": "stdout",
     "output_type": "stream",
     "text": [
      "Loading /work/mflora/ML_DATA/MODEL_SAVES/LogisticRegression_first_hour_tornado_under_standard_.pkl...\n",
      "Loading /work/mflora/ML_DATA/MODEL_SAVES/LogisticRegression_first_hour_severe_hail_under_standard_.pkl...\n",
      "Loading /work/mflora/ML_DATA/MODEL_SAVES/LogisticRegression_first_hour_severe_wind_under_standard_.pkl...\n"
     ]
    }
   ],
   "source": [
    "n_corrs=[]\n",
    "for hazard in ['tornado', 'severe_hail', 'severe_wind', 'road_surface']:\n",
    "    estimators, X, y = load_model_and_data(hazard)\n",
    "    corr_matrix = X.corr()\n",
    "    results, methods, name = load_imp(hazard)\n",
    "    \n",
    "    n_corr=[]\n",
    "    for data, method in zip(results, methods):\n",
    "        top_features = data[f'{method}_rankings__{name}'].values[:10]\n",
    "        result = find_correlated_pairs_among_top_features(\n",
    "            corr_matrix,\n",
    "            top_features,\n",
    "            rho_threshold=0.6,\n",
    "            )\n",
    "        n_corr.append(len(result[0]))\n",
    "        \n",
    "    n_corrs.append(n_corr)"
   ]
  },
  {
   "cell_type": "code",
   "execution_count": 3,
   "id": "28ada1d7",
   "metadata": {},
   "outputs": [
    {
     "ename": "NameError",
     "evalue": "name 'hazards' is not defined",
     "output_type": "error",
     "traceback": [
      "\u001b[0;31m---------------------------------------------------------------------------\u001b[0m",
      "\u001b[0;31mNameError\u001b[0m                                 Traceback (most recent call last)",
      "Input \u001b[0;32mIn [3]\u001b[0m, in \u001b[0;36m<module>\u001b[0;34m\u001b[0m\n\u001b[0;32m----> 1\u001b[0m data \u001b[38;5;241m=\u001b[39m [[h\u001b[38;5;241m.\u001b[39mreplace(\u001b[38;5;124m'\u001b[39m\u001b[38;5;124m_\u001b[39m\u001b[38;5;124m'\u001b[39m, \u001b[38;5;124m'\u001b[39m\u001b[38;5;124m \u001b[39m\u001b[38;5;124m'\u001b[39m)\u001b[38;5;241m.\u001b[39mtitle()] \u001b[38;5;241m+\u001b[39m corr \u001b[38;5;28;01mfor\u001b[39;00m h, corr \u001b[38;5;129;01min\u001b[39;00m \u001b[38;5;28mzip\u001b[39m(\u001b[43mhazards\u001b[49m, n_corrs)]\n",
      "\u001b[0;31mNameError\u001b[0m: name 'hazards' is not defined"
     ]
    }
   ],
   "source": [
    "data = [[h.replace('_', ' ').title()] + corr for h, corr in zip(hazards, n_corrs)]"
   ]
  },
  {
   "cell_type": "code",
   "execution_count": null,
   "id": "c539c3a1",
   "metadata": {},
   "outputs": [],
   "source": [
    "n_corrs"
   ]
  },
  {
   "cell_type": "code",
   "execution_count": null,
   "id": "8903936f",
   "metadata": {},
   "outputs": [],
   "source": [
    "fig, ax = plt.subplots(dpi=300)\n",
    "\n",
    "import pandas as pd \n",
    "df = pd.DataFrame(data, columns = ['Hazard'] + labels)\n",
    "\n",
    "# plot grouped bar chart\n",
    "df.plot(x='Hazard',\n",
    "        kind='bar',\n",
    "        stacked=False,\n",
    "        title='Grouped Bar Graph with dataframe', ax=ax)"
   ]
  },
  {
   "cell_type": "code",
   "execution_count": null,
   "id": "20849a08",
   "metadata": {},
   "outputs": [],
   "source": [
    "df"
   ]
  },
  {
   "cell_type": "code",
   "execution_count": null,
   "id": "166075a8",
   "metadata": {},
   "outputs": [],
   "source": []
  }
 ],
 "metadata": {
  "kernelspec": {
   "display_name": "Python 3 (ipykernel)",
   "language": "python",
   "name": "python3"
  },
  "language_info": {
   "codemirror_mode": {
    "name": "ipython",
    "version": 3
   },
   "file_extension": ".py",
   "mimetype": "text/x-python",
   "name": "python",
   "nbconvert_exporter": "python",
   "pygments_lexer": "ipython3",
   "version": "3.8.10"
  }
 },
 "nbformat": 4,
 "nbformat_minor": 5
}
