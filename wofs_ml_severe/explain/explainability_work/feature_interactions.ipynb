{
 "cells": [
  {
   "cell_type": "code",
   "execution_count": null,
   "id": "23a01627",
   "metadata": {},
   "outputs": [],
   "source": []
  },
  {
   "cell_type": "code",
   "execution_count": null,
   "id": "8d91c500",
   "metadata": {},
   "outputs": [],
   "source": [
    "shap_ds"
   ]
  },
  {
   "cell_type": "code",
   "execution_count": null,
   "id": "3e9eb8a5",
   "metadata": {},
   "outputs": [],
   "source": [
    "X_shap = pd.DataFrame(shap_ds['X'].values, columns=feature_names)\n",
    "\n",
    "shap_vals = pd.DataFrame(shap_ds['shap_values__LogisticRegression'].values, columns=feature_names)"
   ]
  },
  {
   "cell_type": "code",
   "execution_count": null,
   "id": "56405703",
   "metadata": {},
   "outputs": [],
   "source": [
    "plotter= PlotStructure(BASE_FONT_SIZE = 16)\n",
    "fig, ax = plotter.create_subplots(n_panels=1, n_columns=1, figsize=(8,8), dpi=300, \n",
    "                                      wspace=0.4, hspace=0.35)\n",
    "\n",
    "xx = X_shap['wz_0to2_time_max_ens_mean_of_90th'].values\n",
    "yy = X_shap['uh_2to5_time_max_ens_mean_of_90th'].values\n",
    "\n",
    "combined_val = shap_vals['wz_0to2_time_max_ens_mean_of_90th'].values \\\n",
    "            + shap_vals['uh_2to5_time_max_ens_mean_of_90th'].values\n",
    "\n",
    "inds = np.random.choice(len(combined_val), size=10000, replace=False)\n",
    "\n",
    "xx = xx[inds]\n",
    "yy = yy[inds]\n",
    "c = combined_val[inds]\n",
    "\n",
    "sca = ax.scatter(xx, \n",
    "           yy, \n",
    "           c = c\n",
    "           \n",
    "          )\n",
    "ax.grid()\n",
    "plt.colorbar(sca)"
   ]
  }
 ],
 "metadata": {
  "kernelspec": {
   "display_name": "Python 3 (ipykernel)",
   "language": "python",
   "name": "python3"
  },
  "language_info": {
   "codemirror_mode": {
    "name": "ipython",
    "version": 3
   },
   "file_extension": ".py",
   "mimetype": "text/x-python",
   "name": "python",
   "nbconvert_exporter": "python",
   "pygments_lexer": "ipython3",
   "version": "3.8.10"
  }
 },
 "nbformat": 4,
 "nbformat_minor": 5
}
