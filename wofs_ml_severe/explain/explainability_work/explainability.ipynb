{
 "cells": [
  {
   "cell_type": "code",
   "execution_count": 1,
   "id": "b9b602dc",
   "metadata": {},
   "outputs": [],
   "source": [
    "import sys\n",
    "sys.path.append('/home/monte.flora/python_packages/scikit-explain/')\n",
    "import skexplain\n",
    "from os.path import join"
   ]
  },
  {
   "cell_type": "code",
   "execution_count": null,
   "id": "52cace5a",
   "metadata": {},
   "outputs": [],
   "source": [
    "# TODO : for interactions, we could do 2D ALE, KDE plots, or 2D SHAP plots? "
   ]
  },
  {
   "cell_type": "code",
   "execution_count": null,
   "id": "41a9c17e",
   "metadata": {},
   "outputs": [],
   "source": [
    "# Compute PD curves! "
   ]
  },
  {
   "cell_type": "code",
   "execution_count": null,
   "id": "052841ce",
   "metadata": {},
   "outputs": [],
   "source": [
    "base_path = '/work/mflora/ML_DATA/'\n",
    "\n",
    "# Loading the WoFS ALE, SHAP, and permutation importance. \n",
    "target = ['severe_hail', 'severe_wind', 'tornado']\n",
    "\n",
    "# shap results\n",
    "path = join(base_path, 'SHAP_VALUES')\n",
    "fname = join(path, f'shap_values_LogisticRegression_{target}_first_hour.pkl')\n",
    "\n",
    "# TODO: these shap values were stored as pickle files. Need to convert to the new file structure. \n",
    "\n",
    "# ale results\n",
    "path = join(base_path,'ALE_RESULTS')\n",
    "ale_fname = join(path, f'ale_results_all_models_{target}_first_hour.nc')\n",
    "ale_var_fname = join(path, f'ale_var_results_all_models_{target}_first_hour.nc')\n",
    "\n",
    "\n",
    "# permutation results \n",
    "path = join(base_path, 'permutation_importance')\n",
    "direction = 'backward'\n",
    "perm_fname = join(path, f'permutation_importance_{target}_first_hour_training_norm_aupdc{direction}.nc' )"
   ]
  },
  {
   "cell_type": "code",
   "execution_count": null,
   "id": "9694d3f7",
   "metadata": {},
   "outputs": [],
   "source": [
    "# Loading the road surface ALE, SHAP, and permutation importance. \n",
    "base_path = '/work/mflora/ROAD_SURFACE'\n",
    "\n",
    "# ale_results\n",
    "ale_fname = join(base_path,'ale_results', 'ale_rf_original.nc')\n",
    "ale_var_fname = join(base_path,'ale_results', 'ale_var_rf_original.nc')\n",
    "\n",
    "# shap results\n",
    "shap_fname = join(base_path,'shap_results', 'shap_rf_original.nc')\n",
    "\n",
    "# perm results\n",
    "perm_fname = join(base_path,'permutation_importance', f'perm_imp_original_{direction}.nc')"
   ]
  }
 ],
 "metadata": {
  "kernelspec": {
   "display_name": "Python 3 (ipykernel)",
   "language": "python",
   "name": "python3"
  },
  "language_info": {
   "codemirror_mode": {
    "name": "ipython",
    "version": 3
   },
   "file_extension": ".py",
   "mimetype": "text/x-python",
   "name": "python",
   "nbconvert_exporter": "python",
   "pygments_lexer": "ipython3",
   "version": "3.8.10"
  }
 },
 "nbformat": 4,
 "nbformat_minor": 5
}
