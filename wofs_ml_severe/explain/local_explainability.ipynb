{
 "cells": [
  {
   "cell_type": "code",
   "execution_count": 1,
   "id": "110b0528",
   "metadata": {},
   "outputs": [
    {
     "name": "stdout",
     "output_type": "stream",
     "text": [
      "lookup_file: /home/monte.flora/python_packages/WoF_post/wofs/data/psadilookup.dat\n",
      "lookup_file: /home/monte.flora/python_packages/WoF_post/wofs/data/psadilookup.dat\n"
     ]
    }
   ],
   "source": [
    "# Box and Whisker plot for the top 5 predictors \n",
    "# pink line for a given example. \n",
    "import numpy as np\n",
    "import pandas as pd\n",
    "import joblib\n",
    "import sys, os\n",
    "sys.path.insert(0, '/home/monte.flora/python_packages/WoF_post')\n",
    "sys.path.insert(0, '/home/monte.flora/python_packages/ml_workflow')\n",
    "sys.path.insert(0, '/home/monte.flora/python_packages/wofs_ml_severe')\n",
    "\n",
    "from wofs_ml_severe.io.load_ml_models import load_ml_model\n",
    "from wofs.post.utils import load_yaml"
   ]
  },
  {
   "cell_type": "code",
   "execution_count": 2,
   "id": "7e5a905e",
   "metadata": {},
   "outputs": [],
   "source": [
    "df = pd.read_feather('/work/mflora/ML_DATA/DATA/wofs_ml_severe__first_hour__reduced_data.feather')"
   ]
  },
  {
   "cell_type": "code",
   "execution_count": 3,
   "id": "4ddaad15",
   "metadata": {},
   "outputs": [],
   "source": [
    "def fix_data(X): \n",
    "    X = X.astype({'Initialization Time' : str})\n",
    "    X.replace([np.inf, -np.inf], np.nan, inplace=True)\n",
    "    X.reset_index(inplace=True, drop=True)\n",
    "    \n",
    "    return X "
   ]
  },
  {
   "cell_type": "code",
   "execution_count": 20,
   "id": "eeecf4a5",
   "metadata": {},
   "outputs": [],
   "source": [
    "# Load the old dataset. \n",
    "time = 'first_hour'\n",
    "target = 'wind_severe_0km'\n",
    "\n",
    "ml_config = load_yaml(\n",
    "    '/home/monte.flora/python_packages/wofs_ml_severe/wofs_ml_severe/conf/ml_config_realtime.yml')\n",
    "parameters = {\n",
    "                'target' : target,\n",
    "                'time' : time, \n",
    "                'drop_opt' : '',\n",
    "                'model_name' : 'Average',\n",
    "                'ml_config' : ml_config,\n",
    "            }\n",
    "\n",
    "model_dict = load_ml_model(**parameters)\n",
    "features = model_dict['features']\n",
    "model = model_dict['model']\n",
    "\n",
    "X_test = df[features]\n",
    "X_test = fix_data(X_test)\n",
    "df = fix_data(df)"
   ]
  },
  {
   "cell_type": "code",
   "execution_count": 5,
   "id": "6c199bd5",
   "metadata": {},
   "outputs": [],
   "source": [
    "def just_transforms(model, X):\n",
    "    \"\"\"Applies all transforms to the data, without applying last \n",
    "       estimator.\n",
    "\n",
    "    Parameters\n",
    "    ----------\n",
    "    X : iterable\n",
    "        Data to predict on. Must fulfill input requirements of first step of\n",
    "        the pipeline.\n",
    "    \"\"\"\n",
    "    Xt = X\n",
    "    for name, transform in model.steps[:-1]:\n",
    "        Xt = transform.transform(Xt)\n",
    "    return Xt"
   ]
  },
  {
   "cell_type": "code",
   "execution_count": 6,
   "id": "57286def",
   "metadata": {},
   "outputs": [
    {
     "name": "stdout",
     "output_type": "stream",
     "text": [
      "[808212 808110 808374 ... 803359 868062 803089]\n"
     ]
    }
   ],
   "source": [
    "preds = model.predict_proba(X_test)[:,1]\n",
    "top = np.argsort(preds)[::-1][::5]\n",
    "print(top)"
   ]
  },
  {
   "cell_type": "code",
   "execution_count": 31,
   "id": "fec3870a",
   "metadata": {},
   "outputs": [],
   "source": [
    "import json \n",
    "X_rlt = X_test.iloc[[36426,36481, 36721,5599,61986,56836],:]\n",
    "\n",
    "def lr_inputs(model, X):\n",
    "    \"\"\"Compute the product of the model coefficients and processed inputs (e.g., scaling).\"\"\"\n",
    "    # Scale the inputs. \n",
    "    base_est = model.estimators[0].calibrated_classifiers_[0].base_estimator\n",
    "    Xt = just_transforms(base_est, X)\n",
    "    # Get the model coefficients. \n",
    "    coef = base_est.named_steps['model'].coef_[0,:]\n",
    "    \n",
    "    inputs = coef*Xt\n",
    "    \n",
    "    return inputs\n",
    "\n",
    "def get_top_features(inputs, X, ind, features):\n",
    "    \"\"\"Using the LR coefficients, determine the top 5 predictors and their values.\"\"\"\n",
    "    # Get the absolute values. The len(features)\n",
    "    abs_inputs = np.absolute(inputs[len(features):])\n",
    "    \n",
    "    # Sort the values and get the highest values. \n",
    "    sorted_indices = np.argsort(abs_inputs)[::-1]\n",
    "\n",
    "    top_features = np.array(features)[sorted_indices][:5]\n",
    "    top_values = X[top_features].values[ind]\n",
    "    \n",
    "    return top_features, top_values \n",
    "    \n",
    "\n",
    "def generate_explainability_json(model, target, features, dataframe, ml_config, ensemble_track_file, \n",
    "                                ): \n",
    "    # Save subset of data for the explainability graphics. \n",
    "    subset_fname = ensemble_track_file.replace('ENSEMBLETRACKS', 'LOCALEXPLAIN').replace('.nc', '.json') \n",
    "    \n",
    "    # Load the round_dict \n",
    "    json_file = os.path.join(\n",
    "        '/home/monte.flora/python_packages/wofs_ml_severe/wofs_ml_severe', \n",
    "        'json', f'min_max_vals_{target}.json' )\n",
    "    \n",
    "    with open(json_file) as f:\n",
    "        results = json.load(f)\n",
    "    \n",
    "    round_dict = {f : results[f]['round_int'] for f in features}\n",
    "    \n",
    "    #if self.TEMP:\n",
    "    #    dataframe['0-3km_lapse_rate']/=-3.0\n",
    "    #    dataframe['500-700mb_lapse_rate']/=-2.67765\n",
    "    \n",
    "    metadata = dataframe[['label', 'obj_centroid_x', 'obj_centroid_y']]\n",
    "\n",
    "    inputs = lr_inputs(model, dataframe[features])\n",
    "    # Round the data. \n",
    "    dataframe = dataframe.round(round_dict)\n",
    "    \n",
    "    results = [get_top_features(inputs[i,:],dataframe,i, features) for i in range(inputs.shape[0])]\n",
    "    \n",
    "    top_features = np.array([r[0] for r in results])\n",
    "    top_values = np.array([r[1] for r in results])\n",
    "    \n",
    "    val_df = pd.DataFrame(top_values, columns=[f'Feature Val {i+1}' for i in range(5)])\n",
    "    feature_df = pd.DataFrame(top_features, columns=[f'Feature Name {i+1}' for i in range(5)])\n",
    "    \n",
    "    total_df = pd.concat([val_df, feature_df, metadata], axis=1)\n",
    "\n",
    "    print(f'Saving {subset_fname}...')\n",
    "    #total_df.to_json(subset_fname)\n",
    "    \n",
    "    return total_df, val_df"
   ]
  },
  {
   "cell_type": "code",
   "execution_count": 32,
   "id": "a4ce13f8",
   "metadata": {},
   "outputs": [
    {
     "name": "stderr",
     "output_type": "stream",
     "text": [
      "/tmp/ipykernel_233553/951852275.py:6: SettingWithCopyWarning: \n",
      "A value is trying to be set on a copy of a slice from a DataFrame.\n",
      "Try using .loc[row_indexer,col_indexer] = value instead\n",
      "\n",
      "See the caveats in the documentation: https://pandas.pydata.org/pandas-docs/stable/user_guide/indexing.html#returning-a-view-versus-a-copy\n",
      "  dataframe['obj_centroid_x'] = np.arange(len(dataframe))+100\n",
      "/tmp/ipykernel_233553/951852275.py:7: SettingWithCopyWarning: \n",
      "A value is trying to be set on a copy of a slice from a DataFrame.\n",
      "Try using .loc[row_indexer,col_indexer] = value instead\n",
      "\n",
      "See the caveats in the documentation: https://pandas.pydata.org/pandas-docs/stable/user_guide/indexing.html#returning-a-view-versus-a-copy\n",
      "  dataframe['obj_centroid_y'] = np.arange(len(dataframe))+50\n"
     ]
    }
   ],
   "source": [
    "dataframe = df.iloc[[36426,36481, 36721,5599, 61986,56836],:]\n",
    "\n",
    "dataframe.reset_index(inplace=True, drop=True)\n",
    "\n",
    "#dataframe['labels'] = np.arange(len(dataframe))\n",
    "dataframe['obj_centroid_x'] = np.arange(len(dataframe))+100\n",
    "dataframe['obj_centroid_y'] = np.arange(len(dataframe))+50"
   ]
  },
  {
   "cell_type": "code",
   "execution_count": 33,
   "id": "340893cd",
   "metadata": {},
   "outputs": [
    {
     "name": "stdout",
     "output_type": "stream",
     "text": [
      "Saving /work/mflora/SummaryFiles/20210504/2200/wofs_LOCALEXPLAIN_12_20210504_2230_2300.json...\n"
     ]
    }
   ],
   "source": [
    "ensemble_track_file = '/work/mflora/SummaryFiles/20210504/2200/wofs_ENSEMBLETRACKS_12_20210504_2230_2300.nc'\n",
    "df, val_df = generate_explainability_json(model, target, features, dataframe, ml_config, ensemble_track_file)"
   ]
  },
  {
   "cell_type": "code",
   "execution_count": null,
   "id": "0cdc0e72",
   "metadata": {},
   "outputs": [],
   "source": []
  }
 ],
 "metadata": {
  "kernelspec": {
   "display_name": "Python 3 (ipykernel)",
   "language": "python",
   "name": "python3"
  },
  "language_info": {
   "codemirror_mode": {
    "name": "ipython",
    "version": 3
   },
   "file_extension": ".py",
   "mimetype": "text/x-python",
   "name": "python",
   "nbconvert_exporter": "python",
   "pygments_lexer": "ipython3",
   "version": "3.8.15"
  }
 },
 "nbformat": 4,
 "nbformat_minor": 5
}
