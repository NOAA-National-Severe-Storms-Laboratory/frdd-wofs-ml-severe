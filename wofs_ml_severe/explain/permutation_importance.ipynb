{
 "cells": [
  {
   "cell_type": "code",
   "execution_count": 1,
   "id": "9745b53f",
   "metadata": {},
   "outputs": [
    {
     "name": "stdout",
     "output_type": "stream",
     "text": [
      "lookup_file: /home/monte.flora/python_packages/WoF_post/wofs/data/psadilookup.dat\n"
     ]
    }
   ],
   "source": [
    "import numpy as np\n",
    "import pandas as pd\n",
    "import joblib\n",
    "import sys, os\n",
    "sys.path.insert(0, '/home/monte.flora/python_packages/WoF_post')\n",
    "sys.path.insert(0, '/home/monte.flora/python_packages/ml_workflow')\n",
    "sys.path.insert(0, '/home/monte.flora/python_packages/wofs_ml_severe')\n",
    "\n",
    "from wofs_ml_severe.io.load_ml_models import load_ml_model\n",
    "from wofs.post.utils import load_yaml\n",
    "import skexplain \n",
    "from skexplain.common.importance_utils import to_skexplain_importance "
   ]
  },
  {
   "cell_type": "code",
   "execution_count": 2,
   "id": "d2ab1c1d",
   "metadata": {},
   "outputs": [
    {
     "name": "stderr",
     "output_type": "stream",
     "text": [
      "Intel(R) Extension for Scikit-learn* enabled (https://github.com/intel/scikit-learn-intelex)\n",
      "Intel(R) Extension for Scikit-learn* enabled (https://github.com/intel/scikit-learn-intelex)\n",
      "Intel(R) Extension for Scikit-learn* enabled (https://github.com/intel/scikit-learn-intelex)\n"
     ]
    }
   ],
   "source": [
    "time = 'first_hour'\n",
    "target = 'wind_severe_0km'\n",
    "retro=False\n",
    "\n",
    "ml_config = load_yaml(\n",
    "    '/home/monte.flora/python_packages/wofs_ml_severe/wofs_ml_severe/conf/ml_config_realtime.yml')\n",
    "\n",
    "parameters = {\n",
    "                'target' : target,\n",
    "                'time' : time, \n",
    "                'drop_opt' : '',\n",
    "                'model_name' : 'Average',\n",
    "                'ml_config' : ml_config,\n",
    "            }\n",
    "\n",
    "model_dict = load_ml_model(retro, **parameters)\n",
    "model = model_dict['model']\n",
    "\n",
    "\n",
    "ml_config = load_yaml(\n",
    "    '/home/monte.flora/python_packages/wofs_ml_severe/wofs_ml_severe/conf/ml_config_retro.yml')\n",
    "\n",
    "parameters['model_name'] = 'LogisticRegression'\n",
    "parameters['ml_config'] = ml_config\n",
    "model_dict = load_ml_model(retro, **parameters)\n",
    "model = model_dict['model']\n",
    "X =  model_dict['X']\n",
    "y = model_dict['y']\n"
   ]
  },
  {
   "cell_type": "code",
   "execution_count": 3,
   "id": "2e0a67ee",
   "metadata": {},
   "outputs": [],
   "source": [
    "explainer = skexplain.ExplainToolkit(('ML', model), X=X, y=y,)"
   ]
  },
  {
   "cell_type": "code",
   "execution_count": null,
   "id": "1c2794bf",
   "metadata": {},
   "outputs": [
    {
     "name": "stderr",
     "output_type": "stream",
     "text": [
      "\r",
      "Perm. Imp.:   0%|                                                                                                                                      | 0/1 [00:00<?, ?it/s]"
     ]
    }
   ],
   "source": [
    "results = explainer.permutation_importance(\n",
    "                                           n_vars=1, \n",
    "                                           evaluation_fn='norm_aupdc',\n",
    "                                           n_permute=5, \n",
    "                                           subsample=0.1,\n",
    "                                           n_jobs=1,\n",
    "                                           verbose=True,\n",
    "                                           random_seed=42, \n",
    "                                           direction='backward',\n",
    "                                              )"
   ]
  },
  {
   "cell_type": "code",
   "execution_count": null,
   "id": "d451951e",
   "metadata": {},
   "outputs": [],
   "source": [
    "fig = explainer.plot_importance(data=results, \n",
    "                                panels=[('backward_singlepass', 'ML')], \n",
    "                                num_vars_to_plot=15, \n",
    "                                 )"
   ]
  },
  {
   "cell_type": "code",
   "execution_count": null,
   "id": "573f90c6",
   "metadata": {},
   "outputs": [],
   "source": []
  }
 ],
 "metadata": {
  "kernelspec": {
   "display_name": "Python 3 (ipykernel)",
   "language": "python",
   "name": "python3"
  },
  "language_info": {
   "codemirror_mode": {
    "name": "ipython",
    "version": 3
   },
   "file_extension": ".py",
   "mimetype": "text/x-python",
   "name": "python",
   "nbconvert_exporter": "python",
   "pygments_lexer": "ipython3",
   "version": "3.8.15"
  }
 },
 "nbformat": 4,
 "nbformat_minor": 5
}
