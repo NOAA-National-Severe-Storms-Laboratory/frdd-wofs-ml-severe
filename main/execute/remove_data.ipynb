{
 "cells": [
  {
   "cell_type": "code",
   "execution_count": 1,
   "id": "da970086",
   "metadata": {},
   "outputs": [],
   "source": [
    "import os\n",
    "from os.path import join\n",
    "from glob import glob "
   ]
  },
  {
   "cell_type": "code",
   "execution_count": 2,
   "id": "e0a4a5f6",
   "metadata": {},
   "outputs": [],
   "source": [
    "base_path = '/work/mflora/SummaryFiles'\n",
    "\n",
    "dates = [d for d in os.listdir(base_path) if '.txt' not in d]"
   ]
  },
  {
   "cell_type": "code",
   "execution_count": 3,
   "id": "acbd9ae9",
   "metadata": {},
   "outputs": [],
   "source": [
    "for d in dates:\n",
    "    times = [t for t in os.listdir(join(base_path, d)) if t != 'basemap']\n",
    "    for t in times:\n",
    "        #for ty in ['wofs_ENSEMBLE*', 'wofs_MLDATA*', 'wofs_MLTARGETS*']:\n",
    "        for ty in ['wofs_MLDATA*']:   \n",
    "        #for ty in ['wofs_MLTARGETS*']:    \n",
    "            paths = glob(os.path.join(base_path, d, t, ty))\n",
    "            for p in paths:\n",
    "                os.remove(p)"
   ]
  },
  {
   "cell_type": "code",
   "execution_count": null,
   "id": "0fc5ee72",
   "metadata": {},
   "outputs": [],
   "source": []
  }
 ],
 "metadata": {
  "kernelspec": {
   "display_name": "Python 3 (ipykernel)",
   "language": "python",
   "name": "python3"
  },
  "language_info": {
   "codemirror_mode": {
    "name": "ipython",
    "version": 3
   },
   "file_extension": ".py",
   "mimetype": "text/x-python",
   "name": "python",
   "nbconvert_exporter": "python",
   "pygments_lexer": "ipython3",
   "version": "3.8.13"
  }
 },
 "nbformat": 4,
 "nbformat_minor": 5
}
