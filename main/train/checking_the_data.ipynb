{
 "cells": [
  {
   "cell_type": "code",
   "execution_count": 1,
   "id": "c7fecc05",
   "metadata": {},
   "outputs": [],
   "source": [
    "import pandas as pd\n",
    "from os.path import join\n",
    "import numpy as np"
   ]
  },
  {
   "cell_type": "code",
   "execution_count": 19,
   "id": "34011dfb",
   "metadata": {},
   "outputs": [],
   "source": [
    "path = '/work/mflora/SummaryFiles/20210513/2200/wofs_MLTARGETS_28_20210513_2350_0020.feather'\n",
    "df = pd.read_feather(path)"
   ]
  },
  {
   "cell_type": "code",
   "execution_count": 20,
   "id": "41598676",
   "metadata": {},
   "outputs": [],
   "source": [
    "targets = df.columns"
   ]
  },
  {
   "cell_type": "code",
   "execution_count": 25,
   "id": "ea6f5de1",
   "metadata": {},
   "outputs": [
    {
     "data": {
      "text/plain": [
       "Index(['hail_severe_3km', 'hail_severe_9km', 'hail_severe_15km',\n",
       "       'hail_severe_30km', 'wind_severe_3km', 'wind_severe_9km',\n",
       "       'wind_severe_15km', 'wind_severe_30km', 'tornado_severe_3km',\n",
       "       'tornado_severe_9km', 'tornado_severe_15km', 'tornado_severe_30km',\n",
       "       'hail_sig_severe_3km', 'hail_sig_severe_9km', 'hail_sig_severe_15km',\n",
       "       'hail_sig_severe_30km', 'wind_sig_severe_3km', 'wind_sig_severe_9km',\n",
       "       'wind_sig_severe_15km', 'wind_sig_severe_30km',\n",
       "       'tornado_sig_severe_3km', 'tornado_sig_severe_9km',\n",
       "       'tornado_sig_severe_15km', 'tornado_sig_severe_30km'],\n",
       "      dtype='object')"
      ]
     },
     "execution_count": 25,
     "metadata": {},
     "output_type": "execute_result"
    }
   ],
   "source": [
    "targets"
   ]
  },
  {
   "cell_type": "code",
   "execution_count": 2,
   "id": "66ca451e",
   "metadata": {},
   "outputs": [],
   "source": [
    "basePath = '/work/mflora/ML_DATA/DATA'\n",
    "path = join(basePath, 'wofs_ml_severe__first_hour__data.feather')\n",
    "df = pd.read_feather(path)"
   ]
  },
  {
   "cell_type": "code",
   "execution_count": 5,
   "id": "55847c13",
   "metadata": {},
   "outputs": [
    {
     "data": {
      "text/plain": [
       "0          1700\n",
       "1          1700\n",
       "2          1700\n",
       "3          1700\n",
       "4          1700\n",
       "           ... \n",
       "1013376    2100\n",
       "1013377    2100\n",
       "1013378    2100\n",
       "1013379    2100\n",
       "1013380    2100\n",
       "Name: Initialization Time, Length: 1013381, dtype: object"
      ]
     },
     "execution_count": 5,
     "metadata": {},
     "output_type": "execute_result"
    }
   ],
   "source": [
    "df['Initialization Time']"
   ]
  },
  {
   "cell_type": "code",
   "execution_count": 24,
   "id": "f76383e5",
   "metadata": {},
   "outputs": [
    {
     "name": "stdout",
     "output_type": "stream",
     "text": [
      "3786\n",
      "3786\n",
      "3786\n",
      "3786\n",
      "3786\n",
      "3786\n",
      "3786\n",
      "3786\n",
      "3786\n",
      "3786\n",
      "3786\n",
      "3786\n",
      "3786\n",
      "3786\n",
      "3786\n",
      "3786\n",
      "3786\n",
      "3786\n",
      "3786\n",
      "3786\n",
      "3786\n",
      "3786\n",
      "3786\n",
      "3786\n"
     ]
    }
   ],
   "source": [
    "for var in targets:\n",
    "    inds = np.sum(np.isnan(df[var].values))\n",
    "    print(inds)"
   ]
  },
  {
   "cell_type": "code",
   "execution_count": 4,
   "id": "2abdf7e6",
   "metadata": {},
   "outputs": [
    {
     "data": {
      "text/plain": [
       "0         20200915\n",
       "1         20200915\n",
       "2         20200915\n",
       "3         20200915\n",
       "4         20200915\n",
       "            ...   \n",
       "883335    20190802\n",
       "883336    20190802\n",
       "883337    20190802\n",
       "883338    20190802\n",
       "883339    20190802\n",
       "Name: Run Date, Length: 883340, dtype: object"
      ]
     },
     "execution_count": 4,
     "metadata": {},
     "output_type": "execute_result"
    }
   ],
   "source": [
    "df['Run Date'] "
   ]
  },
  {
   "cell_type": "code",
   "execution_count": 5,
   "id": "ce7258f1",
   "metadata": {},
   "outputs": [],
   "source": [
    "df = df[pd.to_datetime(df['Run Date']).dt.strftime('%B').isin(['April', 'May', 'June'])]"
   ]
  },
  {
   "cell_type": "code",
   "execution_count": 6,
   "id": "0c876843",
   "metadata": {},
   "outputs": [
    {
     "data": {
      "text/plain": [
       "array(['20170501', '20170502', '20170503', '20170504', '20170505',\n",
       "       '20170508', '20170509', '20170510', '20170511', '20170512',\n",
       "       '20170515', '20170516', '20170517', '20170518', '20170519',\n",
       "       '20170520', '20170522', '20170523', '20170524', '20170525',\n",
       "       '20170526', '20170527', '20170528', '20170530', '20170531',\n",
       "       '20170601', '20170602', '20170603', '20170605', '20170606',\n",
       "       '20170607', '20170608', '20170609', '20180429', '20180430',\n",
       "       '20180501', '20180502', '20180503', '20180504', '20180505',\n",
       "       '20180507', '20180508', '20180509', '20180510', '20180511',\n",
       "       '20180512', '20180513', '20180514', '20180515', '20180516',\n",
       "       '20180517', '20180519', '20180520', '20180521', '20180522',\n",
       "       '20180523', '20180524', '20180525', '20180526', '20180527',\n",
       "       '20180528', '20180529', '20180530', '20180531', '20180601',\n",
       "       '20180602', '20180618', '20180619', '20180620', '20180621',\n",
       "       '20180622', '20180623', '20180624', '20180625', '20180626',\n",
       "       '20180627', '20180628', '20180629', '20180630', '20190430',\n",
       "       '20190501', '20190502', '20190503', '20190504', '20190506',\n",
       "       '20190507', '20190508', '20190509', '20190510', '20190511',\n",
       "       '20190513', '20190514', '20190515', '20190516', '20190517',\n",
       "       '20190518', '20190519', '20190520', '20190521', '20190522',\n",
       "       '20190523', '20190524', '20190525', '20190526', '20190527',\n",
       "       '20190528', '20190529', '20190530', '20190531', '20190618',\n",
       "       '20190619', '20190620', '20190621', '20190622', '20190623',\n",
       "       '20190624', '20190626', '20190627', '20190628', '20200427',\n",
       "       '20200428', '20200429', '20200430', '20200501', '20200502',\n",
       "       '20200504', '20200505', '20200506', '20200507', '20200508',\n",
       "       '20200509', '20200513', '20200514', '20200515', '20200516',\n",
       "       '20200518', '20200519', '20200520', '20200521', '20200522',\n",
       "       '20200523', '20200526', '20200527', '20200528', '20200529',\n",
       "       '20200530', '20200615', '20200616', '20200617', '20200619',\n",
       "       '20200620', '20200621', '20200622', '20200623', '20200624',\n",
       "       '20200625', '20200626', '20200627', '20200629', '20200630',\n",
       "       '20210427', '20210428', '20210429', '20210503', '20210504',\n",
       "       '20210505', '20210506', '20210507', '20210508', '20210510',\n",
       "       '20210511', '20210512', '20210513', '20210514', '20210515',\n",
       "       '20210517', '20210518', '20210519', '20210520', '20210521',\n",
       "       '20210522', '20210523', '20210524', '20210525', '20210526',\n",
       "       '20210527', '20210528', '20210529', '20210601', '20210602',\n",
       "       '20210603', '20210604', '20210605'], dtype=object)"
      ]
     },
     "execution_count": 6,
     "metadata": {},
     "output_type": "execute_result"
    }
   ],
   "source": [
    "np.unique(df['Run Date'])"
   ]
  },
  {
   "cell_type": "code",
   "execution_count": null,
   "id": "c3c85484",
   "metadata": {},
   "outputs": [],
   "source": []
  }
 ],
 "metadata": {
  "kernelspec": {
   "display_name": "Python 3 (ipykernel)",
   "language": "python",
   "name": "python3"
  },
  "language_info": {
   "codemirror_mode": {
    "name": "ipython",
    "version": 3
   },
   "file_extension": ".py",
   "mimetype": "text/x-python",
   "name": "python",
   "nbconvert_exporter": "python",
   "pygments_lexer": "ipython3",
   "version": "3.8.10"
  }
 },
 "nbformat": 4,
 "nbformat_minor": 5
}
