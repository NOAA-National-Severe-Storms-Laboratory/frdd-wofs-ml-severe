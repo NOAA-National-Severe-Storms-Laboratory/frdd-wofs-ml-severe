{
 "cells": [
  {
   "cell_type": "code",
   "execution_count": 1,
   "id": "7c82c775",
   "metadata": {},
   "outputs": [],
   "source": [
    "#from wofs_ml_severe.wofs_ml_severe import Classifier\n",
    "from master.ml_workflow.ml_workflow.calibrated_pipeline_hyperopt_cv import CalibratedPipelineHyperOptCV\n",
    "\n",
    "import pandas as pd\n",
    "from os.path import join\n",
    "import numpy as np\n",
    "from ml_workflow.ml_workflow.ml_methods import norm_aupdc, brier_skill_score\n",
    "from sklearn.metrics import roc_auc_score\n",
    "\n",
    "from sklearn.linear_model import LogisticRegression\n",
    "from sklearn.ensemble import RandomForestClassifier"
   ]
  },
  {
   "cell_type": "code",
   "execution_count": 2,
   "id": "ba1cad84",
   "metadata": {},
   "outputs": [],
   "source": [
    "def scorer(model, X, y, known_skew):\n",
    "    naupdc = []\n",
    "    bss = [] \n",
    "    auc = []\n",
    "    for n in range(10):\n",
    "        inds = np.random.choice(len(X), size=len(X))\n",
    "        X_i = X.iloc[inds, :]\n",
    "        y_i = y[inds]\n",
    "        predictions = model.predict_proba(X_i)[:,1]\n",
    "        naupdc.append(norm_aupdc(y_i, predictions, known_skew=known_skew))\n",
    "        bss.append(brier_skill_score(y_i, predictions))\n",
    "        auc.append(roc_auc_score(y_i, predictions))\n",
    "        \n",
    "    print( f'NAUPDC: {np.mean(naupdc):.03f} | BSS : {np.mean(bss):.03f} | AUC : {np.mean(auc):.03f}')"
   ]
  },
  {
   "cell_type": "code",
   "execution_count": 3,
   "id": "d4bb0d6c",
   "metadata": {},
   "outputs": [],
   "source": [
    "def load_ml_data(lead_time = 'first_hour', \n",
    "                 mode = 'train',\n",
    "                 cols_to_drop = ['label', 'obj_centroid_x', \n",
    "                                 'obj_centroid_y', 'Run Date', \n",
    "                                 'forecast_time_index'], \n",
    "                target_col = 'hail_severe_3km_obj_match',\n",
    "                sanity_check=False \n",
    "                ): \n",
    "    \"\"\" Loads the ML dataset. \"\"\"\n",
    "    # Target Var : [tornado|wind|hail]_[severe|sig_severe]_[3km, 9km, 15km, 30km]_[obj_match | ]\n",
    "    #base_path = '/work/mflora/ML_DATA/MLDATA'\n",
    "    #file_path = join(base_path, f'wofs_ml_severe__{lead_time}__{mode}_data.feather')\n",
    "    \n",
    "    if sanity_check:\n",
    "        base_path = '/work/mflora/ML_DATA/DATA'\n",
    "        file_path = join(base_path, f'wofs_ml_severe__{lead_time}__data.feather')\n",
    "    else:\n",
    "        base_path = '/work/mflora/ML_DATA/MLDATA'\n",
    "        file_path = join(base_path, f'wofs_ml_severe__{lead_time}__{mode}_data.feather')\n",
    "        \n",
    "    df = pd.read_feather(file_path)\n",
    "\n",
    "    metadata = df[['Run Date', 'forecast_time_index', 'Initialization Time', 'label']]\n",
    "    index = list(df.columns).index('hail_severe_3km_obj_match')\n",
    "    possible_features = list(df.columns)[:index]\n",
    "\n",
    "    drop_vars = ['QVAPOR', 'freezing_level', \n",
    "                 'stp', 'okubo_weiss', 'qv_2', 'shear_u_3to6', 'shear_v_3to6', \n",
    "                 'srh_0to500', 'Initialization Time' ]\n",
    "   \n",
    "    drop_vars = []\n",
    "\n",
    "    features = [f for f in possible_features if f not in cols_to_drop]\n",
    "    \n",
    "    if sanity_check:\n",
    "        features = [f for f in features if not any([d in f for d in drop_vars])]\n",
    "    \n",
    "    X = df[features]\n",
    "    y = df[target_col]\n",
    "\n",
    "    return X,y, metadata "
   ]
  },
  {
   "cell_type": "code",
   "execution_count": 4,
   "id": "d898989d",
   "metadata": {},
   "outputs": [],
   "source": [
    "def load_original_data(mode='training', target='matched_to_severe_wind_0km'):\n",
    "    df = pd.read_feather(\n",
    "    f'/work/mflora/ML_DATA/DATA/original_first_hour_{mode}_{target}_data.feather')\n",
    "    \n",
    "    metadata = ['label', 'Run Time', 'Run Date', 'FCST_TIME_IDX']\n",
    "    targets = ['matched_to_severe_hail_0km',\n",
    "     'matched_to_severe_hail_15km',\n",
    "     'matched_to_LSRs_0km',\n",
    "     'matched_to_LSRs_15km',\n",
    "     'matched_to_severe_wind_0km',\n",
    "     'matched_to_severe_wind_15km',\n",
    "     'matched_to_tornado_0km',\n",
    "     'matched_to_tornado_15km']\n",
    "    features = [f for f in df.columns if f not in targets+metadata]\n",
    "\n",
    "    X = df[features].astype(float)\n",
    "    y = df[target].astype(float).values\n",
    "    \n",
    "    dates = df['Run Date'].apply(str)\n",
    "    \n",
    "    return X, y, dates"
   ]
  },
  {
   "cell_type": "code",
   "execution_count": 5,
   "id": "5491516d",
   "metadata": {},
   "outputs": [],
   "source": [
    "# Convert New to Old \n",
    "def convert(X, y, new_dates, old_dates):\n",
    "    # Get the indices of dates within the old dates \n",
    "    cond = new_dates.isin(np.unique(old_dates))\n",
    "    inds = np.where(cond==True)[0]\n",
    "    \n",
    "    X = X.iloc[inds]\n",
    "    y = y[inds]\n",
    "    new_dates = new_dates[inds]\n",
    "    \n",
    "    X.reset_index(drop=True, inplace=True)\n",
    "    y.reset_index(drop=True, inplace=True)\n",
    "    new_dates.reset_index(drop=True, inplace=True)\n",
    "    \n",
    "    return X, y, new_dates"
   ]
  },
  {
   "cell_type": "code",
   "execution_count": 6,
   "id": "a43ed37d",
   "metadata": {},
   "outputs": [
    {
     "name": "stdout",
     "output_type": "stream",
     "text": [
      "\r",
      "  0%|                                                                                                                                                                                                               | 0/100 [00:00<?, ?trial/s, best loss=?]"
     ]
    },
    {
     "name": "stderr",
     "output_type": "stream",
     "text": [
      "/home/monte.flora/miniconda3/envs/wofs_test/lib/python3.8/site-packages/dask/dataframe/backends.py:187: FutureWarning: pandas.Int64Index is deprecated and will be removed from pandas in a future version. Use pandas.Index with the appropriate dtype instead.\n",
      "  _numeric_index_types = (pd.Int64Index, pd.Float64Index, pd.UInt64Index)\n",
      "\n",
      "/home/monte.flora/miniconda3/envs/wofs_test/lib/python3.8/site-packages/dask/dataframe/backends.py:187: FutureWarning: pandas.Float64Index is deprecated and will be removed from pandas in a future version. Use pandas.Index with the appropriate dtype instead.\n",
      "  _numeric_index_types = (pd.Int64Index, pd.Float64Index, pd.UInt64Index)\n",
      "\n",
      "/home/monte.flora/miniconda3/envs/wofs_test/lib/python3.8/site-packages/dask/dataframe/backends.py:187: FutureWarning: pandas.UInt64Index is deprecated and will be removed from pandas in a future version. Use pandas.Index with the appropriate dtype instead.\n",
      "  _numeric_index_types = (pd.Int64Index, pd.Float64Index, pd.UInt64Index)\n",
      "\n"
     ]
    },
    {
     "name": "stdout",
     "output_type": "stream",
     "text": [
      " 15%|███████████████████████████                                                                                                                                                         | 15/100 [03:27<19:34, 13.81s/trial, best loss: 0.7814661190662664]\n"
     ]
    }
   ],
   "source": [
    "#clf = Classifier()\n",
    "from hyperopt import hp\n",
    "\n",
    "target = 'matched_to_tornado_0km'\n",
    "\n",
    "# Load the original training and testing dataset. \n",
    "X_org, y_org, train_dates = load_original_data(mode='training', target=target)\n",
    "X_org_test, y_org_test, test_dates = load_original_data(mode='testing', target=target)\n",
    "\n",
    "\n",
    "model_name = 'LogisticRegression'\n",
    "lead_time = 'first_hour'\n",
    "target_col = 'tornado_severe_3km'\n",
    "\n",
    "sanity_check=True\n",
    "\n",
    "#if sanity_check:\n",
    "X,y, metadata = load_ml_data(target_col = target_col, sanity_check=sanity_check)\n",
    "new_dates = metadata['Run Date'].apply(str)  \n",
    "X_train, y_train, new_train_dates = convert(X, y, new_dates, train_dates)\n",
    "X_test, y_test, new_test_dates = convert(X, y, new_dates, test_dates)\n",
    "\n",
    "save_name = join('/work/mflora/ML_DATA/new_models/', f'{model_name}_{lead_time}_{target_col}.joblib')\n",
    "#clf_fitted = clf.fit(model_name, X_train, y_train, new_train_dates, \n",
    "#                     categorical_features=categorical_features, max_iter=20, scaler='standard', n_jobs=5, \n",
    "#                    save_name=save_name, params={'C': 0.7, 'l1_ratio': 0.2})\n",
    "\n",
    "if model_name == 'LogisticRegression':\n",
    "    base_estimator = LogisticRegression(solver='saga', penalty='elasticnet', max_iter=300, random_state=42)\n",
    "else:\n",
    "    base_estimator = RandomForestClassifier( n_jobs = n_jobs, criterion='entropy', random_state=42 )\n",
    "    \n",
    "    \n",
    "if 'Random' in model_name:\n",
    "    #RandomForest Grid\n",
    "    param_grid = {\n",
    "               'n_estimators': hp.choice('n_estimators', [100,250,300,500, 750, 1000]),\n",
    "               'max_depth': hp.choice('max_depth', [3, 5, 8, 10, 15, 20,]),\n",
    "               'max_features' : hp.choice( 'max_features', [5,6,8,10, 'sqrt']),\n",
    "               'min_samples_split' : hp.choice( 'min_samples_split', [4,5,8,10,15,20,25,50] ),\n",
    "               'min_samples_leaf': hp.choice( 'min_samples_leaf', [4,5,8,10,15,20,25,50]),\n",
    "\n",
    "               }   \n",
    "else:\n",
    "    param_grid = {\n",
    "                'l1_ratio': hp.choice('l1_ratio', [0.0001, 0.001, 0.01, 0.1, 0.5, 0.6, 0.8, 1.0]),\n",
    "                'C': hp.choice('C', [0.0001, 0.001, 0.01, 0.1, 0.25, 0.5, 0.75, 1.0]),\n",
    "                }\n",
    "    \n",
    "clf = CalibratedPipelineHyperOptCV(base_estimator=base_estimator, param_grid=param_grid, \n",
    "                                   scaler='standard', \n",
    "                                   resample='under', n_jobs=5, \n",
    "                                   cv_kwargs = {'dates': new_train_dates, 'n_splits': 5, 'valid_size' : 20} )\n",
    "\n",
    "clf.fit(X_train, y_train)# params = {'C' : 0.01, 'l1_ratio' : 1.0})\n",
    "clf.save(save_name)"
   ]
  },
  {
   "cell_type": "code",
   "execution_count": 7,
   "id": "e61eb1fc",
   "metadata": {},
   "outputs": [
    {
     "name": "stdout",
     "output_type": "stream",
     "text": [
      "NAUPDC: 0.181 | BSS : 0.050 | AUC : 0.943\n"
     ]
    }
   ],
   "source": [
    "# New Test\n",
    "scorer(clf, X_test, y_test, np.mean(y_train))"
   ]
  },
  {
   "cell_type": "code",
   "execution_count": 8,
   "id": "f0286095",
   "metadata": {},
   "outputs": [],
   "source": [
    "# New Test\n",
    "#scorer(clf, X_train, y_train, np.mean(y_train))"
   ]
  },
  {
   "cell_type": "code",
   "execution_count": 9,
   "id": "b938b975",
   "metadata": {},
   "outputs": [],
   "source": [
    "#clf"
   ]
  },
  {
   "cell_type": "code",
   "execution_count": 10,
   "id": "c146f0e8",
   "metadata": {},
   "outputs": [],
   "source": [
    "from sklearn.calibration import calibration_curve\n",
    "from sklearn.metrics import precision_recall_curve\n",
    "import matplotlib.pyplot as plt\n",
    "\n",
    "y_pred = clf.predict_proba(X_test)[:,1]\n",
    "prob_true, prob_pred = calibration_curve(y_test, y_pred, n_bins=10)\n",
    "sr, pod, _ = precision_recall_curve(y_test, y_pred)"
   ]
  },
  {
   "cell_type": "code",
   "execution_count": 11,
   "id": "61ad3a8c",
   "metadata": {},
   "outputs": [
    {
     "data": {
      "image/png": "[encoded data removed]",
      "text/plain": [
       "<Figure size 2400x1200 with 2 Axes>"
      ]
     },
     "metadata": {
      "needs_background": "light"
     },
     "output_type": "display_data"
    }
   ],
   "source": [
    "f, axes = plt.subplots(ncols=2, dpi=300, sharey=True, figsize=(8,4))\n",
    "\n",
    "for i, (ax, x, y) in enumerate(zip(axes.flat, [prob_pred, sr], [prob_true, pod])):\n",
    "    ax.set_xlim([0,1])\n",
    "    ax.set_ylim([0,1])\n",
    "    if i == 0:\n",
    "        ax.plot([0,1], [0,1], ls='dashed')\n",
    "    else:\n",
    "        xx = np.linspace(0,1,100)\n",
    "        yy = xx\n",
    "        xx,yy = np.meshgrid(xx,xx)\n",
    "        csi = 1 / (1/xx + 1/yy -1)\n",
    "        ax.contourf(xx,yy,csi, cmap='Blues', alpha=0.3, levels=np.arange(0,1.1,0.1))\n",
    "        \n",
    "    ax.plot(x,y, color='k')"
   ]
  },
  {
   "cell_type": "code",
   "execution_count": 12,
   "id": "3d8496af",
   "metadata": {},
   "outputs": [
    {
     "data": {
      "text/plain": [
       "0.42908224076281287"
      ]
     },
     "execution_count": 12,
     "metadata": {},
     "output_type": "execute_result"
    }
   ],
   "source": [
    "np.max(y_pred)"
   ]
  },
  {
   "cell_type": "code",
   "execution_count": 13,
   "id": "e527d05b",
   "metadata": {},
   "outputs": [
    {
     "data": {
      "text/plain": [
       "0.011512805878576015"
      ]
     },
     "execution_count": 13,
     "metadata": {},
     "output_type": "execute_result"
    }
   ],
   "source": [
    "np.mean(y_train)"
   ]
  },
  {
   "cell_type": "code",
   "execution_count": 14,
   "id": "35d9f98c",
   "metadata": {},
   "outputs": [
    {
     "data": {
      "text/plain": [
       "(346341, 113)"
      ]
     },
     "execution_count": 14,
     "metadata": {},
     "output_type": "execute_result"
    }
   ],
   "source": [
    "X_org.shape"
   ]
  },
  {
   "cell_type": "code",
   "execution_count": 15,
   "id": "2f9bba43",
   "metadata": {},
   "outputs": [
    {
     "data": {
      "text/plain": [
       "(336408, 137)"
      ]
     },
     "execution_count": 15,
     "metadata": {},
     "output_type": "execute_result"
    }
   ],
   "source": [
    "X_train.shape"
   ]
  },
  {
   "cell_type": "code",
   "execution_count": 16,
   "id": "4378f261",
   "metadata": {},
   "outputs": [
    {
     "data": {
      "text/plain": [
       "['theta_e__ens_mean__spatial_mean',\n",
       " 'u_10__ens_mean__spatial_mean',\n",
       " 'v_10__ens_mean__spatial_mean',\n",
       " 'temperature_850__ens_mean__spatial_mean',\n",
       " 'temperature_700__ens_mean__spatial_mean',\n",
       " 'temperature_500__ens_mean__spatial_mean',\n",
       " 'td_850__ens_mean__spatial_mean',\n",
       " 'td_700__ens_mean__spatial_mean',\n",
       " 'td_500__ens_mean__spatial_mean',\n",
       " 'mid_level_lapse_rate__ens_mean__spatial_mean',\n",
       " 'low_level_lapse_rate__ens_mean__spatial_mean',\n",
       " 'geo_hgt_850__ens_mean__spatial_mean',\n",
       " 'geo_hgt_500__ens_mean__spatial_mean',\n",
       " 'geo_hgt_700__ens_mean__spatial_mean',\n",
       " 'QVAPOR_850__ens_mean__spatial_mean',\n",
       " 'QVAPOR_700__ens_mean__spatial_mean',\n",
       " 'QVAPOR_500__ens_mean__spatial_mean',\n",
       " 'qv_2__ens_mean__spatial_mean',\n",
       " 'freezing_level__ens_mean__spatial_mean',\n",
       " 'srh_0to1__ens_mean__spatial_mean',\n",
       " 'srh_0to3__ens_mean__spatial_mean',\n",
       " 'srh_0to500__ens_mean__spatial_mean',\n",
       " 'cape_ml__ens_mean__spatial_mean',\n",
       " 'cin_ml__ens_mean__spatial_mean',\n",
       " 'shear_u_0to6__ens_mean__spatial_mean',\n",
       " 'shear_v_0to6__ens_mean__spatial_mean',\n",
       " 'shear_u_0to1__ens_mean__spatial_mean',\n",
       " 'shear_v_0to1__ens_mean__spatial_mean',\n",
       " 'shear_u_3to6__ens_mean__spatial_mean',\n",
       " 'shear_v_3to6__ens_mean__spatial_mean',\n",
       " 'stp__ens_mean__spatial_mean',\n",
       " 'stp_srh0to500__ens_mean__spatial_mean',\n",
       " 'lcl_ml__ens_mean__spatial_mean',\n",
       " 'uh_0to2_instant__time_max__ens_mean__spatial_mean',\n",
       " 'uh_2to5_instant__time_max__ens_mean__spatial_mean',\n",
       " 'wz_0to2_instant__time_max__ens_mean__spatial_mean',\n",
       " 'comp_dz__time_max__ens_mean__spatial_mean',\n",
       " 'ws_80__time_max__ens_mean__spatial_mean',\n",
       " 'w_up__time_max__ens_mean__spatial_mean',\n",
       " 'hailcast__time_max__ens_mean__spatial_mean',\n",
       " 'w_1km__time_max__ens_mean__spatial_mean',\n",
       " '10-500m_bulkshear__time_max__ens_mean__spatial_mean',\n",
       " 'dbz_3to5__time_max__ens_mean__spatial_mean',\n",
       " 'dbz_1to3__time_max__ens_mean__spatial_mean',\n",
       " 'okubo_weiss__time_max__ens_mean__spatial_mean',\n",
       " 'ctt__time_min__ens_mean__spatial_mean',\n",
       " 'buoyancy__time_min__ens_mean__spatial_mean',\n",
       " 'div_10m__time_min__ens_mean__spatial_mean',\n",
       " 'w_down__time_min__ens_mean__spatial_mean',\n",
       " 'theta_e__ens_std__spatial_mean',\n",
       " 'u_10__ens_std__spatial_mean',\n",
       " 'v_10__ens_std__spatial_mean',\n",
       " 'temperature_850__ens_std__spatial_mean',\n",
       " 'temperature_700__ens_std__spatial_mean',\n",
       " 'temperature_500__ens_std__spatial_mean',\n",
       " 'td_850__ens_std__spatial_mean',\n",
       " 'td_700__ens_std__spatial_mean',\n",
       " 'td_500__ens_std__spatial_mean',\n",
       " 'mid_level_lapse_rate__ens_std__spatial_mean',\n",
       " 'low_level_lapse_rate__ens_std__spatial_mean',\n",
       " 'geo_hgt_850__ens_std__spatial_mean',\n",
       " 'geo_hgt_500__ens_std__spatial_mean',\n",
       " 'geo_hgt_700__ens_std__spatial_mean',\n",
       " 'QVAPOR_850__ens_std__spatial_mean',\n",
       " 'QVAPOR_700__ens_std__spatial_mean',\n",
       " 'QVAPOR_500__ens_std__spatial_mean',\n",
       " 'qv_2__ens_std__spatial_mean',\n",
       " 'freezing_level__ens_std__spatial_mean',\n",
       " 'srh_0to1__ens_std__spatial_mean',\n",
       " 'srh_0to3__ens_std__spatial_mean',\n",
       " 'srh_0to500__ens_std__spatial_mean',\n",
       " 'cape_ml__ens_std__spatial_mean',\n",
       " 'cin_ml__ens_std__spatial_mean',\n",
       " 'shear_u_0to6__ens_std__spatial_mean',\n",
       " 'shear_v_0to6__ens_std__spatial_mean',\n",
       " 'shear_u_0to1__ens_std__spatial_mean',\n",
       " 'shear_v_0to1__ens_std__spatial_mean',\n",
       " 'shear_u_3to6__ens_std__spatial_mean',\n",
       " 'shear_v_3to6__ens_std__spatial_mean',\n",
       " 'stp__ens_std__spatial_mean',\n",
       " 'stp_srh0to500__ens_std__spatial_mean',\n",
       " 'lcl_ml__ens_std__spatial_mean',\n",
       " 'uh_0to2_instant__time_max__ens_std__spatial_mean',\n",
       " 'uh_2to5_instant__time_max__ens_std__spatial_mean',\n",
       " 'wz_0to2_instant__time_max__ens_std__spatial_mean',\n",
       " 'comp_dz__time_max__ens_std__spatial_mean',\n",
       " 'ws_80__time_max__ens_std__spatial_mean',\n",
       " 'w_up__time_max__ens_std__spatial_mean',\n",
       " 'hailcast__time_max__ens_std__spatial_mean',\n",
       " 'w_1km__time_max__ens_std__spatial_mean',\n",
       " '10-500m_bulkshear__time_max__ens_std__spatial_mean',\n",
       " 'dbz_3to5__time_max__ens_std__spatial_mean',\n",
       " 'dbz_1to3__time_max__ens_std__spatial_mean',\n",
       " 'okubo_weiss__time_max__ens_std__spatial_mean',\n",
       " 'ctt__time_min__ens_std__spatial_mean',\n",
       " 'buoyancy__time_min__ens_std__spatial_mean',\n",
       " 'div_10m__time_min__ens_std__spatial_mean',\n",
       " 'w_down__time_min__ens_std__spatial_mean',\n",
       " 'uh_0to2_instant__time_max__amp_ens_std',\n",
       " 'uh_0to2_instant__time_max__amp_ens_mean',\n",
       " 'uh_2to5_instant__time_max__amp_ens_std',\n",
       " 'uh_2to5_instant__time_max__amp_ens_mean',\n",
       " 'wz_0to2_instant__time_max__amp_ens_std',\n",
       " 'wz_0to2_instant__time_max__amp_ens_mean',\n",
       " 'comp_dz__time_max__amp_ens_std',\n",
       " 'comp_dz__time_max__amp_ens_mean',\n",
       " 'ws_80__time_max__amp_ens_std',\n",
       " 'ws_80__time_max__amp_ens_mean',\n",
       " 'w_up__time_max__amp_ens_std',\n",
       " 'w_up__time_max__amp_ens_mean',\n",
       " 'hailcast__time_max__amp_ens_std',\n",
       " 'hailcast__time_max__amp_ens_mean',\n",
       " 'w_1km__time_max__amp_ens_std',\n",
       " 'w_1km__time_max__amp_ens_mean',\n",
       " '10-500m_bulkshear__time_max__amp_ens_std',\n",
       " '10-500m_bulkshear__time_max__amp_ens_mean',\n",
       " 'dbz_3to5__time_max__amp_ens_std',\n",
       " 'dbz_3to5__time_max__amp_ens_mean',\n",
       " 'dbz_1to3__time_max__amp_ens_std',\n",
       " 'dbz_1to3__time_max__amp_ens_mean',\n",
       " 'okubo_weiss__time_max__amp_ens_std',\n",
       " 'okubo_weiss__time_max__amp_ens_mean',\n",
       " 'ctt__time_min__amp_ens_std',\n",
       " 'ctt__time_min__amp_ens_mean',\n",
       " 'buoyancy__time_min__amp_ens_std',\n",
       " 'buoyancy__time_min__amp_ens_mean',\n",
       " 'div_10m__time_min__amp_ens_std',\n",
       " 'div_10m__time_min__amp_ens_mean',\n",
       " 'w_down__time_min__amp_ens_std',\n",
       " 'w_down__time_min__amp_ens_mean',\n",
       " 'area',\n",
       " 'eccentricity',\n",
       " 'extent',\n",
       " 'orientation',\n",
       " 'minor_axis_length',\n",
       " 'major_axis_length',\n",
       " 'Initialization Time']"
      ]
     },
     "execution_count": 16,
     "metadata": {},
     "output_type": "execute_result"
    },
    {
     "name": "stderr",
     "output_type": "stream",
     "text": [
      "/home/monte.flora/miniconda3/envs/wofs_test/lib/python3.8/site-packages/sklearn/linear_model/_sag.py:352: ConvergenceWarning: The max_iter was reached which means the coef_ did not converge\n",
      "  warnings.warn(\n",
      "/home/monte.flora/miniconda3/envs/wofs_test/lib/python3.8/site-packages/sklearn/linear_model/_sag.py:352: ConvergenceWarning: The max_iter was reached which means the coef_ did not converge\n",
      "  warnings.warn(\n",
      "/home/monte.flora/miniconda3/envs/wofs_test/lib/python3.8/site-packages/sklearn/linear_model/_sag.py:352: ConvergenceWarning: The max_iter was reached which means the coef_ did not converge\n",
      "  warnings.warn(\n",
      "/home/monte.flora/miniconda3/envs/wofs_test/lib/python3.8/site-packages/sklearn/linear_model/_sag.py:352: ConvergenceWarning: The max_iter was reached which means the coef_ did not converge\n",
      "  warnings.warn(\n",
      "/home/monte.flora/miniconda3/envs/wofs_test/lib/python3.8/site-packages/sklearn/linear_model/_sag.py:352: ConvergenceWarning: The max_iter was reached which means the coef_ did not converge\n",
      "  warnings.warn(\n",
      "/home/monte.flora/miniconda3/envs/wofs_test/lib/python3.8/site-packages/sklearn/linear_model/_sag.py:352: ConvergenceWarning: The max_iter was reached which means the coef_ did not converge\n",
      "  warnings.warn(\n",
      "/home/monte.flora/miniconda3/envs/wofs_test/lib/python3.8/site-packages/sklearn/linear_model/_sag.py:352: ConvergenceWarning: The max_iter was reached which means the coef_ did not converge\n",
      "  warnings.warn(\n",
      "/home/monte.flora/miniconda3/envs/wofs_test/lib/python3.8/site-packages/sklearn/linear_model/_sag.py:352: ConvergenceWarning: The max_iter was reached which means the coef_ did not converge\n",
      "  warnings.warn(\n",
      "/home/monte.flora/miniconda3/envs/wofs_test/lib/python3.8/site-packages/sklearn/linear_model/_sag.py:352: ConvergenceWarning: The max_iter was reached which means the coef_ did not converge\n",
      "  warnings.warn(\n",
      "/home/monte.flora/miniconda3/envs/wofs_test/lib/python3.8/site-packages/sklearn/linear_model/_sag.py:352: ConvergenceWarning: The max_iter was reached which means the coef_ did not converge\n",
      "  warnings.warn(\n",
      "/home/monte.flora/miniconda3/envs/wofs_test/lib/python3.8/site-packages/sklearn/linear_model/_sag.py:352: ConvergenceWarning: The max_iter was reached which means the coef_ did not converge\n",
      "  warnings.warn(\n",
      "/home/monte.flora/miniconda3/envs/wofs_test/lib/python3.8/site-packages/sklearn/linear_model/_sag.py:352: ConvergenceWarning: The max_iter was reached which means the coef_ did not converge\n",
      "  warnings.warn(\n",
      "/home/monte.flora/miniconda3/envs/wofs_test/lib/python3.8/site-packages/sklearn/linear_model/_sag.py:352: ConvergenceWarning: The max_iter was reached which means the coef_ did not converge\n",
      "  warnings.warn(\n",
      "/home/monte.flora/miniconda3/envs/wofs_test/lib/python3.8/site-packages/sklearn/linear_model/_sag.py:352: ConvergenceWarning: The max_iter was reached which means the coef_ did not converge\n",
      "  warnings.warn(\n",
      "/home/monte.flora/miniconda3/envs/wofs_test/lib/python3.8/site-packages/sklearn/linear_model/_sag.py:352: ConvergenceWarning: The max_iter was reached which means the coef_ did not converge\n",
      "  warnings.warn(\n",
      "/home/monte.flora/miniconda3/envs/wofs_test/lib/python3.8/site-packages/sklearn/linear_model/_sag.py:352: ConvergenceWarning: The max_iter was reached which means the coef_ did not converge\n",
      "  warnings.warn(\n",
      "/home/monte.flora/miniconda3/envs/wofs_test/lib/python3.8/site-packages/sklearn/linear_model/_sag.py:352: ConvergenceWarning: The max_iter was reached which means the coef_ did not converge\n",
      "  warnings.warn(\n",
      "/home/monte.flora/miniconda3/envs/wofs_test/lib/python3.8/site-packages/sklearn/linear_model/_sag.py:352: ConvergenceWarning: The max_iter was reached which means the coef_ did not converge\n",
      "  warnings.warn(\n",
      "/home/monte.flora/miniconda3/envs/wofs_test/lib/python3.8/site-packages/sklearn/linear_model/_sag.py:352: ConvergenceWarning: The max_iter was reached which means the coef_ did not converge\n",
      "  warnings.warn(\n",
      "/home/monte.flora/miniconda3/envs/wofs_test/lib/python3.8/site-packages/sklearn/linear_model/_sag.py:352: ConvergenceWarning: The max_iter was reached which means the coef_ did not converge\n",
      "  warnings.warn(\n",
      "/home/monte.flora/miniconda3/envs/wofs_test/lib/python3.8/site-packages/sklearn/linear_model/_sag.py:352: ConvergenceWarning: The max_iter was reached which means the coef_ did not converge\n",
      "  warnings.warn(\n",
      "/home/monte.flora/miniconda3/envs/wofs_test/lib/python3.8/site-packages/sklearn/linear_model/_sag.py:352: ConvergenceWarning: The max_iter was reached which means the coef_ did not converge\n",
      "  warnings.warn(\n",
      "/home/monte.flora/miniconda3/envs/wofs_test/lib/python3.8/site-packages/sklearn/linear_model/_sag.py:352: ConvergenceWarning: The max_iter was reached which means the coef_ did not converge\n",
      "  warnings.warn(\n",
      "/home/monte.flora/miniconda3/envs/wofs_test/lib/python3.8/site-packages/sklearn/linear_model/_sag.py:352: ConvergenceWarning: The max_iter was reached which means the coef_ did not converge\n",
      "  warnings.warn(\n",
      "/home/monte.flora/miniconda3/envs/wofs_test/lib/python3.8/site-packages/sklearn/linear_model/_sag.py:352: ConvergenceWarning: The max_iter was reached which means the coef_ did not converge\n",
      "  warnings.warn(\n",
      "/home/monte.flora/miniconda3/envs/wofs_test/lib/python3.8/site-packages/sklearn/linear_model/_sag.py:352: ConvergenceWarning: The max_iter was reached which means the coef_ did not converge\n",
      "  warnings.warn(\n",
      "/home/monte.flora/miniconda3/envs/wofs_test/lib/python3.8/site-packages/sklearn/linear_model/_sag.py:352: ConvergenceWarning: The max_iter was reached which means the coef_ did not converge\n",
      "  warnings.warn(\n",
      "/home/monte.flora/miniconda3/envs/wofs_test/lib/python3.8/site-packages/sklearn/linear_model/_sag.py:352: ConvergenceWarning: The max_iter was reached which means the coef_ did not converge\n",
      "  warnings.warn(\n",
      "/home/monte.flora/miniconda3/envs/wofs_test/lib/python3.8/site-packages/sklearn/linear_model/_sag.py:352: ConvergenceWarning: The max_iter was reached which means the coef_ did not converge\n",
      "  warnings.warn(\n",
      "/home/monte.flora/miniconda3/envs/wofs_test/lib/python3.8/site-packages/sklearn/linear_model/_sag.py:352: ConvergenceWarning: The max_iter was reached which means the coef_ did not converge\n",
      "  warnings.warn(\n",
      "/home/monte.flora/miniconda3/envs/wofs_test/lib/python3.8/site-packages/sklearn/linear_model/_sag.py:352: ConvergenceWarning: The max_iter was reached which means the coef_ did not converge\n",
      "  warnings.warn(\n",
      "/home/monte.flora/miniconda3/envs/wofs_test/lib/python3.8/site-packages/sklearn/linear_model/_sag.py:352: ConvergenceWarning: The max_iter was reached which means the coef_ did not converge\n",
      "  warnings.warn(\n",
      "/home/monte.flora/miniconda3/envs/wofs_test/lib/python3.8/site-packages/sklearn/linear_model/_sag.py:352: ConvergenceWarning: The max_iter was reached which means the coef_ did not converge\n",
      "  warnings.warn(\n",
      "/home/monte.flora/miniconda3/envs/wofs_test/lib/python3.8/site-packages/sklearn/linear_model/_sag.py:352: ConvergenceWarning: The max_iter was reached which means the coef_ did not converge\n",
      "  warnings.warn(\n",
      "/home/monte.flora/miniconda3/envs/wofs_test/lib/python3.8/site-packages/sklearn/linear_model/_sag.py:352: ConvergenceWarning: The max_iter was reached which means the coef_ did not converge\n",
      "  warnings.warn(\n",
      "/home/monte.flora/miniconda3/envs/wofs_test/lib/python3.8/site-packages/sklearn/linear_model/_sag.py:352: ConvergenceWarning: The max_iter was reached which means the coef_ did not converge\n",
      "  warnings.warn(\n",
      "/home/monte.flora/miniconda3/envs/wofs_test/lib/python3.8/site-packages/sklearn/linear_model/_sag.py:352: ConvergenceWarning: The max_iter was reached which means the coef_ did not converge\n",
      "  warnings.warn(\n",
      "/home/monte.flora/miniconda3/envs/wofs_test/lib/python3.8/site-packages/sklearn/linear_model/_sag.py:352: ConvergenceWarning: The max_iter was reached which means the coef_ did not converge\n",
      "  warnings.warn(\n",
      "/home/monte.flora/miniconda3/envs/wofs_test/lib/python3.8/site-packages/sklearn/linear_model/_sag.py:352: ConvergenceWarning: The max_iter was reached which means the coef_ did not converge\n",
      "  warnings.warn(\n",
      "/home/monte.flora/miniconda3/envs/wofs_test/lib/python3.8/site-packages/sklearn/linear_model/_sag.py:352: ConvergenceWarning: The max_iter was reached which means the coef_ did not converge\n",
      "  warnings.warn(\n",
      "/home/monte.flora/miniconda3/envs/wofs_test/lib/python3.8/site-packages/sklearn/linear_model/_sag.py:352: ConvergenceWarning: The max_iter was reached which means the coef_ did not converge\n",
      "  warnings.warn(\n",
      "/home/monte.flora/miniconda3/envs/wofs_test/lib/python3.8/site-packages/sklearn/linear_model/_sag.py:352: ConvergenceWarning: The max_iter was reached which means the coef_ did not converge\n",
      "  warnings.warn(\n",
      "/home/monte.flora/miniconda3/envs/wofs_test/lib/python3.8/site-packages/sklearn/linear_model/_sag.py:352: ConvergenceWarning: The max_iter was reached which means the coef_ did not converge\n",
      "  warnings.warn(\n",
      "/home/monte.flora/miniconda3/envs/wofs_test/lib/python3.8/site-packages/sklearn/linear_model/_sag.py:352: ConvergenceWarning: The max_iter was reached which means the coef_ did not converge\n",
      "  warnings.warn(\n",
      "/home/monte.flora/miniconda3/envs/wofs_test/lib/python3.8/site-packages/sklearn/linear_model/_sag.py:352: ConvergenceWarning: The max_iter was reached which means the coef_ did not converge\n",
      "  warnings.warn(\n",
      "/home/monte.flora/miniconda3/envs/wofs_test/lib/python3.8/site-packages/sklearn/linear_model/_sag.py:352: ConvergenceWarning: The max_iter was reached which means the coef_ did not converge\n",
      "  warnings.warn(\n",
      "/home/monte.flora/miniconda3/envs/wofs_test/lib/python3.8/site-packages/sklearn/linear_model/_sag.py:352: ConvergenceWarning: The max_iter was reached which means the coef_ did not converge\n",
      "  warnings.warn(\n",
      "/home/monte.flora/miniconda3/envs/wofs_test/lib/python3.8/site-packages/sklearn/linear_model/_sag.py:352: ConvergenceWarning: The max_iter was reached which means the coef_ did not converge\n",
      "  warnings.warn(\n",
      "/home/monte.flora/miniconda3/envs/wofs_test/lib/python3.8/site-packages/sklearn/linear_model/_sag.py:352: ConvergenceWarning: The max_iter was reached which means the coef_ did not converge\n",
      "  warnings.warn(\n",
      "/home/monte.flora/miniconda3/envs/wofs_test/lib/python3.8/site-packages/sklearn/linear_model/_sag.py:352: ConvergenceWarning: The max_iter was reached which means the coef_ did not converge\n",
      "  warnings.warn(\n",
      "/home/monte.flora/miniconda3/envs/wofs_test/lib/python3.8/site-packages/sklearn/linear_model/_sag.py:352: ConvergenceWarning: The max_iter was reached which means the coef_ did not converge\n",
      "  warnings.warn(\n",
      "/home/monte.flora/miniconda3/envs/wofs_test/lib/python3.8/site-packages/sklearn/linear_model/_sag.py:352: ConvergenceWarning: The max_iter was reached which means the coef_ did not converge\n",
      "  warnings.warn(\n"
     ]
    },
    {
     "name": "stderr",
     "output_type": "stream",
     "text": [
      "/home/monte.flora/miniconda3/envs/wofs_test/lib/python3.8/site-packages/sklearn/linear_model/_sag.py:352: ConvergenceWarning: The max_iter was reached which means the coef_ did not converge\n",
      "  warnings.warn(\n",
      "/home/monte.flora/miniconda3/envs/wofs_test/lib/python3.8/site-packages/sklearn/linear_model/_sag.py:352: ConvergenceWarning: The max_iter was reached which means the coef_ did not converge\n",
      "  warnings.warn(\n",
      "/home/monte.flora/miniconda3/envs/wofs_test/lib/python3.8/site-packages/sklearn/linear_model/_sag.py:352: ConvergenceWarning: The max_iter was reached which means the coef_ did not converge\n",
      "  warnings.warn(\n",
      "/home/monte.flora/miniconda3/envs/wofs_test/lib/python3.8/site-packages/sklearn/linear_model/_sag.py:352: ConvergenceWarning: The max_iter was reached which means the coef_ did not converge\n",
      "  warnings.warn(\n",
      "/home/monte.flora/miniconda3/envs/wofs_test/lib/python3.8/site-packages/sklearn/linear_model/_sag.py:352: ConvergenceWarning: The max_iter was reached which means the coef_ did not converge\n",
      "  warnings.warn(\n",
      "/home/monte.flora/miniconda3/envs/wofs_test/lib/python3.8/site-packages/sklearn/linear_model/_sag.py:352: ConvergenceWarning: The max_iter was reached which means the coef_ did not converge\n",
      "  warnings.warn(\n",
      "/home/monte.flora/miniconda3/envs/wofs_test/lib/python3.8/site-packages/sklearn/linear_model/_sag.py:352: ConvergenceWarning: The max_iter was reached which means the coef_ did not converge\n",
      "  warnings.warn(\n",
      "/home/monte.flora/miniconda3/envs/wofs_test/lib/python3.8/site-packages/sklearn/linear_model/_sag.py:352: ConvergenceWarning: The max_iter was reached which means the coef_ did not converge\n",
      "  warnings.warn(\n",
      "/home/monte.flora/miniconda3/envs/wofs_test/lib/python3.8/site-packages/sklearn/linear_model/_sag.py:352: ConvergenceWarning: The max_iter was reached which means the coef_ did not converge\n",
      "  warnings.warn(\n",
      "/home/monte.flora/miniconda3/envs/wofs_test/lib/python3.8/site-packages/sklearn/linear_model/_sag.py:352: ConvergenceWarning: The max_iter was reached which means the coef_ did not converge\n",
      "  warnings.warn(\n",
      "/home/monte.flora/miniconda3/envs/wofs_test/lib/python3.8/site-packages/sklearn/linear_model/_sag.py:352: ConvergenceWarning: The max_iter was reached which means the coef_ did not converge\n",
      "  warnings.warn(\n",
      "/home/monte.flora/miniconda3/envs/wofs_test/lib/python3.8/site-packages/sklearn/linear_model/_sag.py:352: ConvergenceWarning: The max_iter was reached which means the coef_ did not converge\n",
      "  warnings.warn(\n",
      "/home/monte.flora/miniconda3/envs/wofs_test/lib/python3.8/site-packages/sklearn/linear_model/_sag.py:352: ConvergenceWarning: The max_iter was reached which means the coef_ did not converge\n",
      "  warnings.warn(\n"
     ]
    }
   ],
   "source": [
    "list(X_train.columns)"
   ]
  },
  {
   "cell_type": "code",
   "execution_count": null,
   "id": "5c50b5e9",
   "metadata": {},
   "outputs": [],
   "source": []
  }
 ],
 "metadata": {
  "kernelspec": {
   "display_name": "Python 3 (ipykernel)",
   "language": "python",
   "name": "python3"
  },
  "language_info": {
   "codemirror_mode": {
    "name": "ipython",
    "version": 3
   },
   "file_extension": ".py",
   "mimetype": "text/x-python",
   "name": "python",
   "nbconvert_exporter": "python",
   "pygments_lexer": "ipython3",
   "version": "3.8.10"
  }
 },
 "nbformat": 4,
 "nbformat_minor": 5
}
