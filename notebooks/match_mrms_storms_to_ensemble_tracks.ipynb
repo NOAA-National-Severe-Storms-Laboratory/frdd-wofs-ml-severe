{
 "cells": [
  {
   "cell_type": "markdown",
   "id": "15415926",
   "metadata": {},
   "source": [
    "## Match 30-min MRMS Composite Reflectivity Tracks to 30-min Ensemble Storm Tracks \n",
    "\n",
    "### Goal: Determine if a new object ID criteria produces a more skillful prediction of observed storms. "
   ]
  },
  {
   "cell_type": "code",
   "execution_count": 1,
   "id": "dd267e47",
   "metadata": {},
   "outputs": [],
   "source": [
    "from glob import glob\n",
    "import xarray as xr\n",
    "import numpy as np\n",
    "from os.path import join\n",
    "import os\n",
    "from WoF_post.wofs.plotting.wofs_colors import WoFSColors\n",
    "from WoF_post.wofs.plotting.wofs_levels import WoFSLevels\n",
    "import matplotlib.pyplot as plt\n",
    "from mpl_toolkits.axes_grid1.axes_divider import make_axes_locatable\n",
    "from skimage.measure import regionprops\n",
    "from scipy.ndimage import maximum_filter, gaussian_filter, minimum_filter\n",
    "from scripts import WoFSVerifier, add_contingency_table_compos\n",
    "\n",
    "from skexplain.common.multiprocessing_utils import run_parallel, to_iterator\n",
    "\n",
    "import sys\n",
    "sys.path.insert(0, '/home/monte.flora/python_packages/MontePython')\n",
    "import monte_python\n",
    "\n",
    "%matplotlib inline"
   ]
  },
  {
   "cell_type": "code",
   "execution_count": 2,
   "id": "c39a2d93",
   "metadata": {},
   "outputs": [],
   "source": [
    "def new_id(input_data, remove_low=True):\n",
    "    \n",
    "    param_set = [ {'min_thresh': 0,\n",
    "                   'max_thresh': 100,\n",
    "                   'data_increment': 1,\n",
    "                   'delta': 0,\n",
    "                   'area_threshold': 600,\n",
    "                   'dist_btw_objects': 125 },\n",
    "             \n",
    "             {'min_thresh': 30,\n",
    "                   'max_thresh': 100,\n",
    "                   'data_increment': 1,\n",
    "                   'delta': 0,\n",
    "                   'area_threshold': 200,\n",
    "                   'dist_btw_objects': 5 },\n",
    "            ]\n",
    "\n",
    "    params = {'params': param_set }\n",
    "\n",
    "    # Less than 2/18 = 0.11, 1/18 = 0.055\n",
    "    new_input_data = np.copy(input_data)\n",
    "    if remove_low:\n",
    "        new_input_data[input_data<=0.12] = 0\n",
    "\n",
    "    new_input_data = maximum_filter(new_input_data, size=2)\n",
    "    new_input_data = gaussian_filter(new_input_data, 1)*100\n",
    "\n",
    "    storm_labels, new_object_props = monte_python.label(  input_data = new_input_data, \n",
    "                       method ='iterative_watershed', \n",
    "                       return_object_properties=True, \n",
    "                       params = params,  \n",
    "                       )\n",
    "    \n",
    "    # Reduce the object size due to the maximum filter and gaussian filter \n",
    "    idx = np.where(input_data==0)\n",
    "    storm_labels[idx] = 0\n",
    "    \n",
    "    #storm_labels = minimum_filter(storm_labels, size=3)\n",
    "    new_object_props = regionprops(storm_labels, storm_labels)\n",
    "    \n",
    "    return storm_labels, new_input_data, new_object_props"
   ]
  },
  {
   "cell_type": "markdown",
   "id": "9399debf",
   "metadata": {},
   "source": [
    "## Get the 30-min time-max MRMS composite reflectivity & the 30-min ensemble storm tracks"
   ]
  },
  {
   "cell_type": "code",
   "execution_count": 3,
   "id": "9ce5da66",
   "metadata": {},
   "outputs": [],
   "source": [
    "# MCS case: '20210504 / 2200-0000'\n",
    "# Isolated case : '20210526'\n",
    "\n",
    "date = '20210504'\n",
    "init_time = '2300'\n",
    "time_idxs = [6]\n",
    "MRMS_PATH = '/work/brian.matilla/WOFS_2021/MRMS/RAD_AZS_MSH_AGG/'\n",
    "WOFS_PATH = '/work/mflora/SummaryFiles/'\n",
    "\n",
    "def get_files(date, init_time, t):\n",
    "    WOFS_OFFSET = 6 \n",
    "    MRMS_OFFSET = 18 \n",
    "\n",
    "    WOFS_PATH = '/work/mflora/SummaryFiles/'\n",
    "    MRMS_PATH = '/work/brian.matilla/WOFS_2021/MRMS/RAD_AZS_MSH_AGG/'\n",
    "    \n",
    "    wofs_t = t + WOFS_OFFSET\n",
    "    mrms_t = t + MRMS_OFFSET\n",
    "    mrms_begin_t =mrms_t - 6 \n",
    "    try:\n",
    "        mrms_files = [glob(join(MRMS_PATH, date, init_time, f'wofs_RAD_{tt:02d}*'))[0] for tt in \n",
    "                  range(mrms_begin_t, mrms_t+1)]\n",
    "        wofs_file = glob(join(WOFS_PATH, date, init_time, f'wofs_ENSEMBLETRACKS_{wofs_t:02d}*'))[0]\n",
    "        return mrms_files, wofs_file\n",
    "    \n",
    "    except IndexError:\n",
    "        return None, None"
   ]
  },
  {
   "cell_type": "markdown",
   "id": "dc2c0bd8",
   "metadata": {},
   "source": [
    "## Identify tracks in the 30-min time-max MRMS Comp. Refl. "
   ]
  },
  {
   "cell_type": "code",
   "execution_count": 4,
   "id": "92fae5db",
   "metadata": {},
   "outputs": [],
   "source": [
    "def identify_mrms_tracks(mrms_files, min_thresh=44):\n",
    "    \"\"\"Identify the 30-min MRMS Compo. Refl. Tracks\"\"\"\n",
    "    mrms_dbz = np.max([xr.load_dataset(f)['dz_cress'].values for f in mrms_files], axis=0)\n",
    "    \n",
    "    storm_labels, object_props = monte_python.label( input_data = mrms_dbz,\n",
    "                                   method ='watershed', \n",
    "                                   return_object_properties=True, \n",
    "                                   params = {'min_thresh': min_thresh,\n",
    "                                             'max_thresh': 75,\n",
    "                                             'data_increment': 1,\n",
    "                                              'area_threshold': 1500,\n",
    "                                            'dist_btw_objects': 25 } )\n",
    "    # Quality Control \n",
    "    qcer = monte_python.QualityControler()\n",
    "    qc_params = [('min_area', 12), ('max_thresh', [45, 99])]\n",
    "    qc_labels, qc_objects_props = qcer.quality_control(mrms_dbz, storm_labels, object_props, qc_params)\n",
    "    \n",
    "    return qc_labels, qc_objects_props"
   ]
  },
  {
   "cell_type": "markdown",
   "id": "61967a0d",
   "metadata": {},
   "source": [
    "## Identify new ensemble storm tracks"
   ]
  },
  {
   "cell_type": "code",
   "execution_count": 5,
   "id": "6d1f6ffa",
   "metadata": {},
   "outputs": [],
   "source": [
    "def get_wofs_tracks(wofs_file):\n",
    "    ds = xr.load_dataset(wofs_file)\n",
    "    current_tracks = ds['w_up__ensemble_tracks'].values\n",
    "    probs = ds['w_up__ensemble_probabilities'].values\n",
    "    new_tracks, new_input_data, new_props = new_id(probs)\n",
    "    current_props = regionprops(current_tracks)\n",
    "    \n",
    "    return current_tracks, new_tracks, current_props, new_props"
   ]
  },
  {
   "cell_type": "markdown",
   "id": "f7a3f109",
   "metadata": {},
   "source": [
    "## Match MRMS to the WoFS"
   ]
  },
  {
   "cell_type": "code",
   "execution_count": 6,
   "id": "1fb00e29",
   "metadata": {},
   "outputs": [],
   "source": [
    "def match(current_tracks, new_tracks, mrms_tracks):\n",
    "    matcher = monte_python.ObjectMatcher(cent_dist_max = 20, \n",
    "                                     min_dist_max = 10,\n",
    "                                     time_max=0, score_thresh=0.2, \n",
    "                                     one_to_one = False)\n",
    "\n",
    "    matched_fcst, matched_obs, _ = matcher.match(ensemble_tracks, qc_labels)\n",
    "    matched_new_fcst, matched_new_obs, _ = matcher.match(new_labels, qc_labels)"
   ]
  },
  {
   "cell_type": "markdown",
   "id": "32b2e0ba",
   "metadata": {},
   "source": [
    "## Contingency Statistics "
   ]
  },
  {
   "cell_type": "code",
   "execution_count": 7,
   "id": "6738e65e",
   "metadata": {},
   "outputs": [],
   "source": [
    "dates = os.listdir(MRMS_PATH)[::2]\n",
    "init_time = ['0000']\n",
    "time_rng = range(0, 30, 2)\n",
    "\n",
    "verifier_current = WoFSVerifier()\n",
    "verifier_new = WoFSVerifier()\n",
    "\n",
    "i = 0\n",
    "for date in dates:\n",
    "    if date[4:6] == '05':\n",
    "        try:\n",
    "            os.listdir(os.path.join(WOFS_PATH, date))\n",
    "        except FileNotFoundError:\n",
    "            continue\n",
    "        for init_time in os.listdir(os.path.join(WOFS_PATH, date))[::3]:\n",
    "            for t in time_rng:\n",
    "                # Get MRMS and Ensemble storm tracks\n",
    "                mrms_files, wofs_file = get_files(date, init_time, t)\n",
    "\n",
    "   \n",
    "                if wofs_file is None:\n",
    "                    continue\n",
    "\n",
    "                i+=1\n",
    "                # Load WoFS Data and ID new tracks\n",
    "                current_tracks, new_tracks, current_props, new_props = get_wofs_tracks(wofs_file)\n",
    "            \n",
    "                # Identify MRMS tracks \n",
    "                mrms_tracks, mrms_props = identify_mrms_tracks(mrms_files, min_thresh=44)\n",
    "                \n",
    "                # Match WOFS to MRMS\n",
    "                matcher = monte_python.ObjectMatcher(cent_dist_max = 20, \n",
    "                                     min_dist_max = 10,\n",
    "                                     time_max=0, score_thresh=0.2, \n",
    "                                     one_to_one = False)\n",
    "\n",
    "                matched_fcst_current, matched_obs_current, _ = matcher.match(current_tracks, mrms_tracks)\n",
    "                matched_fcst_new, matched_obs_new, _ = matcher.match(new_tracks, mrms_tracks)\n",
    "            \n",
    "     \n",
    "                # Add hits, false alarms, and misses\n",
    "                verifier_current.add_contingency_table_compos(current_tracks, \n",
    "                                                          mrms_tracks, matched_fcst_current, matched_obs_current)\n",
    "            \n",
    "                verifier_new.add_contingency_table_compos(new_tracks, \n",
    "                                                          mrms_tracks, matched_fcst_new, matched_obs_new)"
   ]
  },
  {
   "cell_type": "code",
   "execution_count": 8,
   "id": "b87f3df6",
   "metadata": {},
   "outputs": [
    {
     "name": "stdout",
     "output_type": "stream",
     "text": [
      "Number of Cases : 1285\n",
      "Scores for the existing tracks:\n",
      "\n",
      "POD : 0.822 | FAR : 0.786 | CSI : 0.204166 | N : 34368\n",
      "\n",
      "Scores for the new tracks:\n",
      "\n",
      "POD : 0.688 | FAR : 0.520 | CSI : 0.394 | N : 12792\n",
      "\n",
      "Num of MRMS Storms : 8935\n"
     ]
    }
   ],
   "source": [
    "pod, far, csi = verifier_current.get_scores()\n",
    "pod_new, far_new, csi_new = verifier_new.get_scores()\n",
    "\n",
    "N_old_storms = verifier_current.hits + verifier_current.false_alarms\n",
    "N_new_storms = verifier_new.hits + verifier_new.false_alarms\n",
    "N_mrms_storms = verifier_current.hits + verifier_current.misses\n",
    "\n",
    "print(f'Number of Cases : {i}')\n",
    "print('Scores for the existing tracks:\\n')\n",
    "print(f\"\"\"POD : {pod:.3f} | FAR : {far:.3f} | CSI : {csi:3f} | N : {N_old_storms}\\n\"\"\")\n",
    "print('Scores for the new tracks:\\n')\n",
    "print(f\"\"\"POD : {pod_new:.3f} | FAR : {far_new:.3f} | CSI : {csi_new:.3f} | N : {N_new_storms}\\n\"\"\")\n",
    "print(f\"Num of MRMS Storms : {N_mrms_storms}\")"
   ]
  }
 ],
 "metadata": {
  "kernelspec": {
   "display_name": "Python 3 (ipykernel)",
   "language": "python",
   "name": "python3"
  },
  "language_info": {
   "codemirror_mode": {
    "name": "ipython",
    "version": 3
   },
   "file_extension": ".py",
   "mimetype": "text/x-python",
   "name": "python",
   "nbconvert_exporter": "python",
   "pygments_lexer": "ipython3",
   "version": "3.8.13"
  }
 },
 "nbformat": 4,
 "nbformat_minor": 5
}
