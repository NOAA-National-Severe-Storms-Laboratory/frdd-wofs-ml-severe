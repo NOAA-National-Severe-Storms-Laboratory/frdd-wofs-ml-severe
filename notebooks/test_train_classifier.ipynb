{
 "cells": [
  {
   "cell_type": "code",
   "execution_count": 1,
   "id": "e110e8fc",
   "metadata": {},
   "outputs": [],
   "source": [
    "import sys, os \n",
    "sys.path.append(os.path.dirname(os.getcwd()))\n",
    "sys.path.append('')"
   ]
  },
  {
   "cell_type": "code",
   "execution_count": 2,
   "id": "b2309787",
   "metadata": {},
   "outputs": [
    {
     "name": "stderr",
     "output_type": "stream",
     "text": [
      "Intel(R) Extension for Scikit-learn* enabled (https://github.com/intel/scikit-learn-intelex)\n"
     ]
    }
   ],
   "source": [
    "import numpy as np\n",
    "\n",
    "from wofs_ml_severe import Classifier, IO\n",
    "from ml_workflow import PreProcessPipeline\n",
    "from sklearn.linear_model import LogisticRegression\n",
    "from imblearn.pipeline import Pipeline\n",
    "#from sklearn.pipeline import Pipeline"
   ]
  },
  {
   "cell_type": "code",
   "execution_count": 3,
   "id": "05d87be1",
   "metadata": {},
   "outputs": [],
   "source": [
    "# Load the data (inherited from IO) \n",
    "X,y,info = IO().load_data(mode='train', \n",
    "                          time='first_hour', \n",
    "                          target='hail_severe_15km', \n",
    "                          return_info=True)\n"
   ]
  },
  {
   "cell_type": "code",
   "execution_count": 4,
   "id": "c43998ef",
   "metadata": {},
   "outputs": [],
   "source": [
    "y[np.isnan(y)] = 0 \n",
    "#pipeline.fit(X,y)"
   ]
  },
  {
   "cell_type": "code",
   "execution_count": null,
   "id": "1880b663",
   "metadata": {},
   "outputs": [
    {
     "name": "stdout",
     "output_type": "stream",
     "text": [
      "param_grid=None\n"
     ]
    }
   ],
   "source": [
    "index = list(X.columns).index('Initialization Time')\n",
    "Classifier().fit('LogisticRegression', \n",
    "                                 X,y, dates=info['Run Date'],\n",
    "                                 categorical_features=[index], \n",
    "                                 params = {'C': 0.1, 'l1_ratio' : 0.1}\n",
    "                                )"
   ]
  },
  {
   "cell_type": "code",
   "execution_count": null,
   "id": "cd865157",
   "metadata": {},
   "outputs": [],
   "source": []
  }
 ],
 "metadata": {
  "kernelspec": {
   "display_name": "Python 3 (ipykernel)",
   "language": "python",
   "name": "python3"
  },
  "language_info": {
   "codemirror_mode": {
    "name": "ipython",
    "version": 3
   },
   "file_extension": ".py",
   "mimetype": "text/x-python",
   "name": "python",
   "nbconvert_exporter": "python",
   "pygments_lexer": "ipython3",
   "version": "3.8.10"
  }
 },
 "nbformat": 4,
 "nbformat_minor": 5
}
