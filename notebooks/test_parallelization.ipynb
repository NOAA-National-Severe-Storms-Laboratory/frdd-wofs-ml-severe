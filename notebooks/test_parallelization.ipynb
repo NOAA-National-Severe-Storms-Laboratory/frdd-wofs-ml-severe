{
 "cells": [
  {
   "cell_type": "markdown",
   "id": "7bb7f2ec",
   "metadata": {},
   "source": [
    "## Determine the most efficient parallelization code. "
   ]
  },
  {
   "cell_type": "code",
   "execution_count": 1,
   "id": "75886cb9",
   "metadata": {},
   "outputs": [],
   "source": [
    "import xarray as xr \n",
    "import numpy as np \n",
    "from glob import glob\n",
    "import os\n",
    "from os.path import join\n",
    "import multiprocessing as mp\n",
    "import itertools\n",
    "import joblib\n",
    "from tqdm import tqdm  \n",
    "from wofs_ml_severe.wofs_ml_severe.common.multiprocessing_utils import run_parallel, to_iterator"
   ]
  },
  {
   "cell_type": "code",
   "execution_count": 2,
   "id": "da5fa50e",
   "metadata": {},
   "outputs": [],
   "source": [
    "base_path = '/work/mflora/SummaryFiles/20210504/2200'\n",
    "file_paths = glob(join(base_path, 'wofs_ENV_*'))\n",
    "out_path = '/work/mflora/testdata/'\n",
    "N_JOBS = 12"
   ]
  },
  {
   "cell_type": "code",
   "execution_count": 3,
   "id": "a4a36f74",
   "metadata": {},
   "outputs": [],
   "source": [
    "def worker(path):\n",
    "    # Load the data into memory \n",
    "    ds = xr.load_dataset(path, decode_times=False)\n",
    "    data = ds['mslp'].values\n",
    "    base_name = os.path.basename(path)\n",
    "    data*=1000\n",
    "    \n",
    "    data = {'mslp' : (('NE', 'NY', 'NX'), data)}\n",
    "    \n",
    "    new_ds = xr.Dataset(data)\n",
    "    out_name = join(out_path, base_name)\n",
    "    new_ds.to_netcdf(out_name)\n",
    "    \n",
    "    return out_name"
   ]
  },
  {
   "cell_type": "code",
   "execution_count": 5,
   "id": "43e12e50",
   "metadata": {},
   "outputs": [
    {
     "name": "stderr",
     "output_type": "stream",
     "text": [
      "100%|█████████████████████████████████████████████████████████████████████████████████████████████████████████| 73/73 [00:13<00:00,  5.32it/s]"
     ]
    },
    {
     "name": "stdout",
     "output_type": "stream",
     "text": [
      "CPU times: user 74.4 ms, sys: 105 ms, total: 179 ms\n",
      "Wall time: 13.7 s\n"
     ]
    },
    {
     "name": "stderr",
     "output_type": "stream",
     "text": [
      "\n"
     ]
    }
   ],
   "source": [
    "%%time\n",
    "run_parallel(worker, to_iterator(file_paths), N_JOBS)"
   ]
  },
  {
   "cell_type": "code",
   "execution_count": 11,
   "id": "1866ecc0",
   "metadata": {},
   "outputs": [],
   "source": [
    "import joblib\n",
    "from tqdm.auto import tqdm\n",
    "\n",
    "class ProgressParallel(joblib.Parallel):\n",
    "    def __call__(self, *args, **kwargs):\n",
    "        with tqdm() as self._pbar:\n",
    "            return joblib.Parallel.__call__(self, *args, **kwargs)\n",
    "\n",
    "    def print_progress(self):\n",
    "        self._pbar.total = self.n_dispatched_tasks\n",
    "        self._pbar.n = self.n_completed_tasks\n",
    "        self._pbar.refresh()\n",
    "        \n",
    "        \n",
    "class MPProgressParallel(mp.Pool):\n",
    "    def __init__(self, n_jobs):\n",
    "        self.pool = mp.Pool(n_jobs)\n",
    "    \n",
    "    def __call__(self, *args, **kwargs):\n",
    "        with tqdm() as self._pbar:\n",
    "            return self.pool.__call__(self, *args, **kwargs)\n",
    "\n",
    "    def print_progress(self):\n",
    "        self._pbar.total = self.n_dispatched_tasks\n",
    "        self._pbar.n = self.n_completed_tasks\n",
    "        self._pbar.refresh()        "
   ]
  },
  {
   "cell_type": "code",
   "execution_count": 12,
   "id": "7f90ce64",
   "metadata": {},
   "outputs": [
    {
     "data": {
      "application/vnd.jupyter.widget-view+json": {
       "model_id": "673e1850bbc343b194bc470a257d31c3",
       "version_major": 2,
       "version_minor": 0
      },
      "text/plain": [
       "0it [00:00, ?it/s]"
      ]
     },
     "metadata": {},
     "output_type": "display_data"
    },
    {
     "name": "stderr",
     "output_type": "stream",
     "text": [
      "/home/monte.flora/miniconda3/envs/ai2es/lib/python3.8/site-packages/joblib/externals/loky/process_executor.py:702: UserWarning: A worker stopped while some jobs were given to the executor. This can be caused by a too short worker timeout or by a memory leak.\n",
      "  warnings.warn(\n"
     ]
    },
    {
     "name": "stdout",
     "output_type": "stream",
     "text": [
      "CPU times: user 260 ms, sys: 209 ms, total: 469 ms\n",
      "Wall time: 17 s\n"
     ]
    }
   ],
   "source": [
    "%%time\n",
    "# arallel processing with joblib\n",
    "backend = 'loky'\n",
    "iterator = file_paths\n",
    "results = ProgressParallel(n_jobs = N_JOBS,\n",
    "                backend=backend,\n",
    "                verbose=0)(joblib.delayed(worker)(args,) for args in iterator)"
   ]
  },
  {
   "cell_type": "raw",
   "id": "80b93f26",
   "metadata": {},
   "source": [
    "CPU times: user 198 ms, sys: 216 ms, total: 414 ms\n",
    "Wall time: 17.4 s"
   ]
  },
  {
   "cell_type": "code",
   "execution_count": 5,
   "id": "d0fdaac2",
   "metadata": {},
   "outputs": [
    {
     "name": "stdout",
     "output_type": "stream",
     "text": [
      "CPU times: user 106 ms, sys: 89.2 ms, total: 196 ms\n",
      "Wall time: 13.3 s\n"
     ]
    }
   ],
   "source": [
    "%%time\n",
    "# Parallel processing with joblib\n",
    "backend = 'multiprocessing'\n",
    "iterator = file_paths\n",
    "results = joblib.Parallel(n_jobs = N_JOBS,\n",
    "                backend=backend,\n",
    "                verbose=0)(joblib.delayed(worker)(args,) for args in iterator)"
   ]
  },
  {
   "cell_type": "code",
   "execution_count": 14,
   "id": "5ee5cab7",
   "metadata": {},
   "outputs": [
    {
     "data": {
      "application/vnd.jupyter.widget-view+json": {
       "model_id": "dc8e379c1e974cb8bec03863ea5bca4c",
       "version_major": 2,
       "version_minor": 0
      },
      "text/plain": [
       "  0%|          | 0/73 [00:00<?, ?it/s]"
      ]
     },
     "metadata": {},
     "output_type": "display_data"
    },
    {
     "name": "stdout",
     "output_type": "stream",
     "text": [
      "CPU times: user 120 ms, sys: 88.4 ms, total: 208 ms\n",
      "Wall time: 13.2 s\n"
     ]
    }
   ],
   "source": [
    "%%time\n",
    "\n",
    "pbar = tqdm(total=len(file_paths))\n",
    "def update(*a):\n",
    "    pbar.update()\n",
    "\n",
    "# Parallel processing with multiprocessing\n",
    "iterator = file_paths #itertools.zip_longest(*file_paths)\n",
    "pool = mp.Pool(processes=N_JOBS)\n",
    "for args in iterator:\n",
    "    pool.apply_async(worker, args=(args,), callback=update)\n",
    "pool.close()\n",
    "pool.join()"
   ]
  },
  {
   "cell_type": "raw",
   "id": "dae88bf3",
   "metadata": {},
   "source": [
    "CPU times: user 34.4 ms, sys: 85.2 ms, total: 120 ms\n",
    "Wall time: 13 s"
   ]
  }
 ],
 "metadata": {
  "kernelspec": {
   "display_name": "Python 3 (ipykernel)",
   "language": "python",
   "name": "python3"
  },
  "language_info": {
   "codemirror_mode": {
    "name": "ipython",
    "version": 3
   },
   "file_extension": ".py",
   "mimetype": "text/x-python",
   "name": "python",
   "nbconvert_exporter": "python",
   "pygments_lexer": "ipython3",
   "version": "3.8.13"
  }
 },
 "nbformat": 4,
 "nbformat_minor": 5
}
